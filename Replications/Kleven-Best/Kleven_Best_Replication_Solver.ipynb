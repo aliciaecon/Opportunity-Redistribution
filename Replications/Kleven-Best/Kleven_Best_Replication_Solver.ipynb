{
 "cells": [
  {
   "cell_type": "markdown",
   "id": "cdffd7a0",
   "metadata": {},
   "source": [
    "# Kleven Best (2012) Replication"
   ]
  },
  {
   "cell_type": "markdown",
   "id": "3108353d",
   "metadata": {},
   "source": [
    "## Solve for the optimal tax schedule"
   ]
  },
  {
   "cell_type": "markdown",
   "id": "ef565810",
   "metadata": {},
   "source": [
    "Follow code from hamiltonian_agedep.m"
   ]
  },
  {
   "cell_type": "code",
   "execution_count": 2,
   "id": "92cda3f6",
   "metadata": {},
   "outputs": [
    {
     "data": {
      "text/plain": [
       "Main.DataPrep"
      ]
     },
     "execution_count": 2,
     "metadata": {},
     "output_type": "execute_result"
    }
   ],
   "source": [
    "# Import data parameters from from prepare_data.jl\n",
    "include(\"DataPrep.jl\")\n",
    "using .DataPrep: prims"
   ]
  }
 ],
 "metadata": {
  "kernelspec": {
   "display_name": "Julia 1.7.2",
   "language": "julia",
   "name": "julia-1.7"
  },
  "language_info": {
   "file_extension": ".jl",
   "mimetype": "application/julia",
   "name": "julia",
   "version": "1.7.2"
  }
 },
 "nbformat": 4,
 "nbformat_minor": 5
}
