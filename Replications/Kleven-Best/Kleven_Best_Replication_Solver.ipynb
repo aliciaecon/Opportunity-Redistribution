{
 "cells": [
  {
   "cell_type": "markdown",
   "id": "3869af40",
   "metadata": {},
   "source": [
    "# Kleven Best (2012) Replication"
   ]
  },
  {
   "cell_type": "markdown",
   "id": "a55f1d95",
   "metadata": {},
   "source": [
    "## Solve for the optimal tax schedule"
   ]
  },
  {
   "cell_type": "markdown",
   "id": "36c2cdcb",
   "metadata": {},
   "source": [
    "Follow code from hamiltonian_agedep.m"
   ]
  },
  {
   "cell_type": "markdown",
   "id": "2f5d6965",
   "metadata": {},
   "source": [
    "First, import the data from DataPrep.jl (which is from Kleven_Best_Replication_DataPrep.ipynb). This struct has arguments z, n, $\\omega_0$, fn, ntop, $\\gamma$, $\\delta$, $\\eta$."
   ]
  },
  {
   "cell_type": "code",
   "execution_count": 1,
   "id": "d5958fc0",
   "metadata": {},
   "outputs": [],
   "source": [
    "# Load libraries\n",
    "using Parameters\n",
    "using Plots\n",
    "using Trapz\n",
    "using NumericalIntegration\n",
    "using SpecialFunctions\n",
    "using Interpolations\n",
    "using TimerOutputs\n",
    "using JLD2"
   ]
  },
  {
   "cell_type": "code",
   "execution_count": 2,
   "id": "af32548e",
   "metadata": {},
   "outputs": [],
   "source": [
    "# Add libraries\n",
    "# using Pkg\n",
    "# Pkg.add(\"PyCall\")"
   ]
  },
  {
   "cell_type": "code",
   "execution_count": 3,
   "id": "2d0afe40",
   "metadata": {},
   "outputs": [
    {
     "data": {
      "text/plain": [
       "Prims_struct\n",
       "  z: Array{Float64}((978,)) [148.4131591025766, 150.17348576416674, 151.95469163872048, 153.7570243743271, 155.5807345564264, 157.4260757426494, 159.293304498071, 161.18268043088128, 163.09446622847997, 165.0289276939985  …  1.3441792061885778e7, 1.3601224992827775e7, 1.3762548955810169e7, 1.3925786380340775e7, 1.409095996196357e7, 1.425809266541405e7, 1.4427207727812257e7, 1.4598328661893431e7, 1.4771479259276977e7, 1.4946683593774399e7]\n",
       "  n: Array{Float64}((978,)) [30.263461163541827, 30.51559227444055, 30.767767586748093, 31.02003127691949, 31.27242747156859, 31.52500022271328, 31.77779348321883, 32.0308510825042, 32.284216702574916, 32.5379338544449  …  25574.210424036966, 25749.394175295412, 25925.777917283227, 26103.3698668783, 26282.178296810493, 26462.211535988918, 26643.477969824642, 26825.986040548025, 27009.744247519877, 27194.761147535384]\n",
       "  ω0: Array{Float64}((978,)) [67.491388, 67.56448299394141, 67.63758654525179, 67.71070722817241, 67.78385365061185, 67.85703447078714, 67.93025841363541, 68.00353428692131, 68.07687099696845, 68.15027756394441  …  37991.02662630184, 38276.713788948335, 38564.54682772191, 38854.54164316284, 39146.714251876445, 39441.080787897605, 39737.65750406192, 40036.46077337941, 40337.50709040601, 40640.8130726083]\n",
       "  fn: Array{Float64}((978,)) [3.721524250199971e-5, 3.75448930539718e-5, 3.787453304011296e-5, 3.8204151937385384e-5, 3.853373930825258e-5, 3.8863284843217925e-5, 3.9192778403109236e-5, 3.952221006102624e-5, 3.98515701438682e-5, 4.018084927336068e-5  …  4.8590591026402196e-9, 4.705479808766026e-9, 4.556754681609795e-9, 4.41273029764586e-9, 4.273258082701266e-9, 4.1381941586908536e-9, 4.00739919519728e-9, 3.8807382657428214e-9, 3.758080708604652e-9, 3.63929999203005e-9]\n",
       "  ntop: Int64 978\n",
       "  γ: Float64 10.0\n",
       "  d: Float64 0.0\n",
       "  e: Float64 0.5\n",
       "  η: Array{Float64}((978,)) [0.12999643221595142, 0.13093002580318036, 0.13185402090408946, 0.13276853660413762, 0.13367374516959263, 0.13456987262833564, 0.1354571989963407, 0.1363360581516139, 0.13720683735690212, 0.1380699764397559  …  1.0977870634255364, 1.097777844573296, 1.0977678886049367, 1.097757203095739, 1.0977457978337313, 1.0977336847651533, 1.0977208779297871, 1.0977073933848813, 1.0976932491203388, 1.0969641557622398]\n"
      ]
     },
     "execution_count": 3,
     "metadata": {},
     "output_type": "execute_result"
    }
   ],
   "source": [
    "# Import data parameters from from prepare_data.jl\n",
    "#= Previously: Run the module\n",
    "include(\"DataPrep.jl\")\n",
    "using .DataPrep: prims\n",
    "=#\n",
    "\n",
    "# New: Import the JLD2 file\n",
    "# Make the prims struct\n",
    "@with_kw struct Prims_struct\n",
    "    z\n",
    "    n\n",
    "    ω0\n",
    "    fn\n",
    "    ntop\n",
    "    γ\n",
    "    d\n",
    "    e\n",
    "    η\n",
    "end;\n",
    "\n",
    "# Load the JLD file\n",
    "jldfile = load(\"primitives.jld2\")\n",
    "\n",
    "# Create a struct object\n",
    "prims = Prims_struct(z=jldfile[\"z\"], n=jldfile[\"n\"], ω0=jldfile[\"ω0\"], fn=jldfile[\"fn\"], \n",
    "    ntop=jldfile[\"ntop\"], γ=jldfile[\"γ\"], d=jldfile[\"d\"], e=jldfile[\"e\"], η=jldfile[\"η\"])"
   ]
  },
  {
   "cell_type": "markdown",
   "id": "446dfa8e",
   "metadata": {},
   "source": [
    "In the routine below, the tax schedule is solved in two loops. The outer loop satisfies th government budget constraints by changing the intercepts $T0_y$ and $T0_o$. The inner loop satisfies the optimal tax schedule $T_i(z)$ at age $i \\in \\{y, o\\}$ described in Equation (5):\n",
    "\n",
    "$$ \\frac{\\tau_i(z)}{1-\\tau_i(z)} = A_i(z)B_i(z)C_i(z)$$\n",
    "\n",
    "Where:\n",
    "\n",
    "$$A_i(z) = \\left(E_{ii} + E_{ji}\\frac{\\tau_j(z_j(z))z_j(z)}{\\tau_i(z)z}\\right)^{-1} $$\n",
    "\n",
    "$$B_i(z) = \\frac{\\int_z^\\infty [1-g_i(z')]dH_i(z')}{1-H_i(z)} $$\n",
    "\n",
    "$$C_i(z) = \\frac{1-H_i(z)}{zh_i(z)} $$"
   ]
  },
  {
   "cell_type": "markdown",
   "id": "8f1dc303",
   "metadata": {},
   "source": [
    "A few more relevent equations are:\n",
    "\n",
    "Lifetime utility given by Equation (1):\n",
    "\n",
    "$$U(z_y, z_o) = z_y - T_y(z_y) - \\frac{1}{1+1/e} \\left(\\frac{z_y}{n}\\right)^{1+1/e}\\\\\n",
    "+ z_o - T_o(z_o) - \\frac{1}{1+1/e} \\left(\\frac{z_o}{\\omega(n, z_y/n)}\\right)^{1+1/e}$$\n",
    "\n",
    "CRRA social welfare function with social welfare weight $g$:\n",
    "\n",
    "$$\\Psi(U) = U^{1-\\gamma}/(1-\\gamma) $$\n",
    "$$\\implies g = \\Psi'(U)/\\lambda = U^{-\\gamma}/\\lambda$$"
   ]
  },
  {
   "cell_type": "code",
   "execution_count": 4,
   "id": "a1a0c1ca",
   "metadata": {},
   "outputs": [],
   "source": [
    "# First, some helper functions\n",
    "# Helper function to mimic 'max' in Matlab\n",
    "# Currently editing to make this faster\n",
    "function maxdf(dta) # dta must be a matrix\n",
    "    val = maximum(dta)\n",
    "    ind = findfirst(dta .== val)\n",
    "    return val, ind\n",
    "end;\n",
    "\n",
    "# Helper function to mimic 'find' in Matlab\n",
    "function findnon0(dta)\n",
    "    return findall(!=(0),vec(dta))\n",
    "end;\n",
    "\n",
    "# Helper function for linear interpolation\n",
    "function limat(x, v, endpoint, xq)\n",
    "    li = LinearInterpolation(x, v, extrapolation_bc = endpoint)\n",
    "    return li.(xq)\n",
    "end;"
   ]
  },
  {
   "cell_type": "code",
   "execution_count": 5,
   "id": "fa6f9cbe",
   "metadata": {},
   "outputs": [],
   "source": [
    "# Temporary\n",
    "function maxdf2(dta)\n",
    "    if size(dta)[1] == 1 # If row vector\n",
    "        vals, inds = findmax(dta)\n",
    "        inds = inds[2]\n",
    "    elseif size(dta)[2] == 1 # If column vector\n",
    "        vals, inds = findmax(dta)\n",
    "        inds = inds[1]\n",
    "    else # If matrix\n",
    "        vals, inds = findmax(dta, dims = 1)\n",
    "        inds = getindex.(inds[1,:],1)\n",
    "    end\n",
    "    return vals, inds\n",
    "end;"
   ]
  },
  {
   "cell_type": "code",
   "execution_count": 6,
   "id": "7c5496aa",
   "metadata": {},
   "outputs": [
    {
     "data": {
      "text/plain": [
       "inner_loop (generic function with 1 method)"
      ]
     },
     "execution_count": 6,
     "metadata": {},
     "output_type": "execute_result"
    }
   ],
   "source": [
    "# Function to run the inner loop\n",
    "function inner_loop(prims, τ_y, τ_o, T0_y, T0_o, λ, SWF, Tax)\n",
    "    \n",
    "    @timeit to \"Block 1\" begin\n",
    "    # Block 1: Individual optimization\n",
    "    #println(\"here1\")\n",
    "    # Pick best combination of zy and zo in terms of lifetime utility\n",
    "    # Get the tax schedule over z\n",
    "    # CHECKED/WORKS\n",
    "    T_yz = cumul_integrate(prims.z, τ_y) .+ T0_y\n",
    "    T_oz = cumul_integrate(prims.z, τ_o) .+ T0_o\n",
    "\n",
    "    # Empty vectors for z_i and U\n",
    "    z_y = zeros(prims.ntop)\n",
    "    z_o = zeros(prims.ntop)\n",
    "    Un = zeros(prims.ntop)\n",
    "\n",
    "    ee = 1 + 1/prims.e\n",
    "        \n",
    "    Ulife_first = repeat(prims.z', prims.ntop) - repeat(T_yz', prims.ntop) + \n",
    "                repeat(prims.z, 1, prims.ntop) - repeat(T_oz, 1, prims.ntop)\n",
    "    Ulife_second = repeat(((prims.z').^ee), prims.ntop)\n",
    "    Ulife_third = ((prims.z*(1 ./ prims.z.^prims.d)').^ee)\n",
    "\n",
    "    Threads.@threads for i in 1:prims.ntop # Iterate through the ability distribution\n",
    "        # NOTE: This is the slow part...\n",
    "        # Compute lifetime utility from Equation (1)\n",
    "        y_cons = (1/prims.n[i]^ee)/ee # Last term for y and o\n",
    "        o_cons = ((1/prims.ω0[i])^ee)/ee\n",
    "        # Big matrix of utilities for each z_y and z_o\n",
    "        Ulife = Ulife_first - (y_cons * Ulife_second) - (o_cons * Ulife_third)\n",
    "        #=\n",
    "        Ulife = repeat(prims.z', prims.ntop) - repeat(T_yz', prims.ntop) + \n",
    "                repeat(prims.z, 1, prims.ntop) - repeat(T_oz, 1, prims.ntop) - \n",
    "                repeat(y_cons * ((prims.z').^ee), prims.ntop) - \n",
    "                (o_cons * ((prims.z*(1 ./ prims.z.^prims.d)').^ee))\n",
    "        =#\n",
    "        # Optimize\n",
    "        # Re-do the optimization, hopefully faster\n",
    "        # Need to check accuracy\n",
    "        Ustar, zinds = maxdf(Ulife)\n",
    "        z_y[i] = prims.z[zinds[2]]\n",
    "        z_o[i] = prims.z[zinds[1]]\n",
    "        Un[i] = Ustar\n",
    "        #= Original\n",
    "        U_ozy, zostarzyind = maxdf(Ulife)\n",
    "        Ustar, zystarind = maxdf(U_ozy)\n",
    "        # Fill in the vectors\n",
    "        z_y[i] = prims.z[zystarind]\n",
    "        z_o[i] = prims.z[zostarzyind[zystarind]]\n",
    "        Un[i] = Ustar\n",
    "        =#\n",
    "    end\n",
    "    end\n",
    "    \n",
    "    @timeit to \"Block 2\" begin\n",
    "    # Block 2: Right-hand side of the optimality condition\n",
    "    #println(\"here2\")\n",
    "    # CHECKED/WORKS\n",
    "    λ0 = copy(λ)\n",
    "    λ = trapz(prims.n, Un.^-prims.γ .* prims.fn) # Integral of g(z)dH(z)\n",
    "    g = (Un.^-prims.γ ./ λ)\n",
    "    μ = cumul_integrate(prims.n, (g .- 1) .* prims.fn) # Numerator of B\n",
    "    # BC * 1/(1+e) (the 1-H(z) term cancels out)\n",
    "    BC = (μ ./ (prims.n .* prims.fn)) .* ee # Divide by denominator of C\n",
    "    # Find A for the young\n",
    "    τ_ny = zeros(prims.ntop)\n",
    "    τ_no = zeros(prims.ntop)\n",
    "    Threads.@threads for i in 1:prims.ntop\n",
    "        τ_ny[i] = τ_y[findfirst(prims.z .== z_y[i])]\n",
    "        τ_no = τ_o[findfirst(prims.z .== z_o[i])]\n",
    "    end\n",
    "    A = prims.d .* ((z_o .* (1 .- τ_no)) ./ (z_y .* (1 .- τ_ny)))\n",
    "    τ_nynew = BC .* (1 .+ (A .* (1 .+ prims.d .- prims.η)))\n",
    "    # Do I need the missing line?\n",
    "    τ_nynew = τ_nynew ./ (1 .+ τ_nynew)\n",
    "    τ_nonew = BC .* (prims.η .- prims.d)\n",
    "    τ_nonew = τ_nonew ./ (1 .+ τ_nonew)\n",
    "    end\n",
    "        \n",
    "    @timeit to \"Block 3\" begin\n",
    "    # Block 3: Tax schedule\n",
    "    #println(\"here3\")\n",
    "    # CHECKED/WORKS\n",
    "    τ_y_new = zeros(prims.ntop)\n",
    "    τ_o_new = zeros(prims.ntop)\n",
    "    for i in 1:prims.ntop # Fill in the ones we know\n",
    "        τ_y_new[findfirst(prims.z .== z_y[i])] = τ_nynew[i]\n",
    "        τ_o_new[findfirst(prims.z .== z_o[i])] = τ_nonew[i]\n",
    "    end\n",
    "    # Interpolate everything else\n",
    "    # Get the non-zero values\n",
    "    zfoundinzy = prims.z[findnon0(τ_y_new)]\n",
    "    τ_yfound = τ_y_new[findnon0(τ_y_new)]\n",
    "    zfoundinzo = prims.z[findnon0(τ_o_new)]\n",
    "    τ_ofound = τ_o_new[findnon0(τ_o_new)]\n",
    "    # Linearly interpolate\n",
    "    τ_y_new = limat(zfoundinzy, τ_yfound, τ_yfound[1], prims.z)\n",
    "    τ_o_new = limat(zfoundinzo, τ_ofound, τ_ofound[1], prims.z)\n",
    "    # Fill in the top values\n",
    "    topy = findfirst(prims.z .== findmax(z_y)[1])\n",
    "    for j in topy:prims.ntop\n",
    "        τ_y_new[j] = τ_nynew[prims.ntop]\n",
    "    end\n",
    "    topo = findfirst(prims.z .== findmax(z_o)[1])\n",
    "    for j in topo:prims.ntop\n",
    "        τ_o_new[j] = τ_nonew[prims.ntop]\n",
    "    end\n",
    "    # Update all the values\n",
    "    Tax0 = copy(Tax)\n",
    "    lifetax = z_y + z_o - Un - ((z_y./prims.n).^ee)./ee -\n",
    "              ((z_o./(prims.ω0 .* (z_y.^prims.d))).^ee)./ee # Check\n",
    "    Tax = trapz(prims.n, lifetax .* prims.fn)\n",
    "    SWF0 = copy(SWF)\n",
    "    SWF = trapz(prims.n, digamma.(Un).*prims.fn)\n",
    "    #println(\"here4\")\n",
    "    end\n",
    "        \n",
    "    return τ_y_new, τ_o_new, λ0, λ, SWF0, SWF, Tax0, Tax\n",
    "end"
   ]
  },
  {
   "cell_type": "code",
   "execution_count": 13,
   "id": "5ad29569",
   "metadata": {},
   "outputs": [
    {
     "data": {
      "text/plain": [
       "main_loop (generic function with 2 methods)"
      ]
     },
     "execution_count": 13,
     "metadata": {},
     "output_type": "execute_result"
    }
   ],
   "source": [
    "# Define the main loop\n",
    "function main_loop(prims)\n",
    "# Variables to iterate over\n",
    "    τ_y = 0.2*ones(prims.ntop)\n",
    "    τ_o = 0.2*ones(prims.ntop)\n",
    "    T0_y = -70000\n",
    "    T0_o = -70000\n",
    "    dTax = 10000\n",
    "    R = 4000 # Revenue requirement\n",
    "    iter1 = 0\n",
    "\n",
    "    while abs(dTax) > 30\n",
    "        # Iterators\n",
    "        iter1 += 1\n",
    "        iter2 = 0\n",
    "        # Negative income tax\n",
    "        T0_y = T0_y - (dTax/2)\n",
    "        T0_o = T0_o - (dTax/2)\n",
    "        # Marginal value of public funds\n",
    "        λ0 = 0\n",
    "        λ = 1\n",
    "        # SWF value\n",
    "        SWF = 1\n",
    "        SWF0 = 0\n",
    "        # Tax revenue\n",
    "        Tax = 1\n",
    "        Tax0 = 0\n",
    "        iter2 = 0\n",
    "        #println(\"here0\")\n",
    "\n",
    "        while abs(λ0 - λ) > 0.000001 ||\n",
    "        abs(SWF0 - SWF) > 0.0005 ||\n",
    "        abs(Tax0 - Tax) > 30\n",
    "            iter2 += 1\n",
    "            τ_y, τ_o, λ0, λ, SWF0, SWF, Tax0, Tax = \n",
    "                inner_loop(prims, τ_y, τ_o, T0_y, T0_o, λ, SWF, Tax)\n",
    "            println(\"Inner iter:\", iter2, \" SWF:\", SWF, \" Tax:\", Tax, \" λ:\", λ)\n",
    "            flush(stdout)\n",
    "            #plot(prims.z, τ_y)\n",
    "            #plot!(prims.z, τ_o)\n",
    "        end\n",
    "        dTax = Tax - R\n",
    "        println(\"Outer iter:\", iter1, \" dTax:\", dTax)\n",
    "    end\n",
    "    return τ_y, τ_o, T0_y, T0_o, dTax\n",
    "end"
   ]
  },
  {
   "cell_type": "code",
   "execution_count": 14,
   "id": "a54bba13",
   "metadata": {
    "collapsed": true
   },
   "outputs": [
    {
     "name": "stdout",
     "output_type": "stream",
     "text": [
      "Inner iter:1 SWF:12.269582665709052 Tax:-121905.49353883721 λ:2.8781285569433857e-53\n",
      "Inner iter:2 SWF:12.006514634625558 Tax:-84640.36390807912 λ:1.0861630560014676e-52\n",
      "Inner iter:3 SWF:12.126995704752494 Tax:-95805.8064018106 λ:4.849169124076418e-53\n",
      "Inner iter:4 SWF:12.041406359734038 Tax:-85178.5758949752 λ:8.748664068855944e-53\n"
     ]
    },
    {
     "ename": "LoadError",
     "evalue": "TaskFailedException\n\n\u001b[91m    nested task error: \u001b[39mInterruptException:\n    Stacktrace:\n      [1] \u001b[0m\u001b[1mArray\u001b[22m\n    \u001b[90m    @ \u001b[39m\u001b[90m./\u001b[39m\u001b[90m\u001b[4mboot.jl:459\u001b[24m\u001b[39m\u001b[90m [inlined]\u001b[39m\n      [2] \u001b[0m\u001b[1mArray\u001b[22m\n    \u001b[90m    @ \u001b[39m\u001b[90m./\u001b[39m\u001b[90m\u001b[4mboot.jl:467\u001b[24m\u001b[39m\u001b[90m [inlined]\u001b[39m\n      [3] \u001b[0m\u001b[1mArray\u001b[22m\n    \u001b[90m    @ \u001b[39m\u001b[90m./\u001b[39m\u001b[90m\u001b[4mboot.jl:474\u001b[24m\u001b[39m\u001b[90m [inlined]\u001b[39m\n      [4] \u001b[0m\u001b[1msimilar\u001b[22m\n    \u001b[90m    @ \u001b[39m\u001b[90m./\u001b[39m\u001b[90m\u001b[4mabstractarray.jl:829\u001b[24m\u001b[39m\u001b[90m [inlined]\u001b[39m\n      [5] \u001b[0m\u001b[1msimilar\u001b[22m\n    \u001b[90m    @ \u001b[39m\u001b[90m./\u001b[39m\u001b[90m\u001b[4mabstractarray.jl:828\u001b[24m\u001b[39m\u001b[90m [inlined]\u001b[39m\n      [6] \u001b[0m\u001b[1msimilar\u001b[22m\n    \u001b[90m    @ \u001b[39m\u001b[90m./\u001b[39m\u001b[90m\u001b[4mbroadcast.jl:212\u001b[24m\u001b[39m\u001b[90m [inlined]\u001b[39m\n      [7] \u001b[0m\u001b[1msimilar\u001b[22m\n    \u001b[90m    @ \u001b[39m\u001b[90m./\u001b[39m\u001b[90m\u001b[4mbroadcast.jl:211\u001b[24m\u001b[39m\u001b[90m [inlined]\u001b[39m\n      [8] \u001b[0m\u001b[1mcopy\u001b[22m\n    \u001b[90m    @ \u001b[39m\u001b[90m./\u001b[39m\u001b[90m\u001b[4mbroadcast.jl:885\u001b[24m\u001b[39m\u001b[90m [inlined]\u001b[39m\n      [9] \u001b[0m\u001b[1mmaterialize\u001b[22m\n    \u001b[90m    @ \u001b[39m\u001b[90m./\u001b[39m\u001b[90m\u001b[4mbroadcast.jl:860\u001b[24m\u001b[39m\u001b[90m [inlined]\u001b[39m\n     [10] \u001b[0m\u001b[1mbroadcast_preserving_zero_d\u001b[22m\n    \u001b[90m    @ \u001b[39m\u001b[90m./\u001b[39m\u001b[90m\u001b[4mbroadcast.jl:849\u001b[24m\u001b[39m\u001b[90m [inlined]\u001b[39m\n     [11] \u001b[0m\u001b[1m*\u001b[22m\u001b[0m\u001b[1m(\u001b[22m\u001b[90mA\u001b[39m::\u001b[0mFloat64, \u001b[90mB\u001b[39m::\u001b[0mMatrix\u001b[90m{Float64}\u001b[39m\u001b[0m\u001b[1m)\u001b[22m\n    \u001b[90m    @ \u001b[39m\u001b[90mBase\u001b[39m \u001b[90m./\u001b[39m\u001b[90m\u001b[4marraymath.jl:52\u001b[24m\u001b[39m\n     [12] \u001b[0m\u001b[1mmacro expansion\u001b[22m\n    \u001b[90m    @ \u001b[39m\u001b[90m./\u001b[39m\u001b[90m\u001b[4mIn[6]:31\u001b[24m\u001b[39m\u001b[90m [inlined]\u001b[39m\n     [13] \u001b[0m\u001b[1m(::var\"#39#threadsfor_fun#4\"{Prims_struct, Matrix{Float64}, Matrix{Float64}, Matrix{Float64}, UnitRange{Int64}})\u001b[22m\u001b[0m\u001b[1m(\u001b[22m\u001b[90monethread\u001b[39m::\u001b[0mBool\u001b[0m\u001b[1m)\u001b[22m\n    \u001b[90m    @ \u001b[39m\u001b[35mMain\u001b[39m \u001b[90m./\u001b[39m\u001b[90m\u001b[4mthreadingconstructs.jl:85\u001b[24m\u001b[39m\n     [14] \u001b[0m\u001b[1m(::var\"#39#threadsfor_fun#4\"{Prims_struct, Matrix{Float64}, Matrix{Float64}, Matrix{Float64}, UnitRange{Int64}})\u001b[22m\u001b[0m\u001b[1m(\u001b[22m\u001b[0m\u001b[1m)\u001b[22m\n    \u001b[90m    @ \u001b[39m\u001b[35mMain\u001b[39m \u001b[90m./\u001b[39m\u001b[90m\u001b[4mthreadingconstructs.jl:52\u001b[24m\u001b[39m",
     "output_type": "error",
     "traceback": [
      "TaskFailedException\n\n\u001b[91m    nested task error: \u001b[39mInterruptException:\n    Stacktrace:\n      [1] \u001b[0m\u001b[1mArray\u001b[22m\n    \u001b[90m    @ \u001b[39m\u001b[90m./\u001b[39m\u001b[90m\u001b[4mboot.jl:459\u001b[24m\u001b[39m\u001b[90m [inlined]\u001b[39m\n      [2] \u001b[0m\u001b[1mArray\u001b[22m\n    \u001b[90m    @ \u001b[39m\u001b[90m./\u001b[39m\u001b[90m\u001b[4mboot.jl:467\u001b[24m\u001b[39m\u001b[90m [inlined]\u001b[39m\n      [3] \u001b[0m\u001b[1mArray\u001b[22m\n    \u001b[90m    @ \u001b[39m\u001b[90m./\u001b[39m\u001b[90m\u001b[4mboot.jl:474\u001b[24m\u001b[39m\u001b[90m [inlined]\u001b[39m\n      [4] \u001b[0m\u001b[1msimilar\u001b[22m\n    \u001b[90m    @ \u001b[39m\u001b[90m./\u001b[39m\u001b[90m\u001b[4mabstractarray.jl:829\u001b[24m\u001b[39m\u001b[90m [inlined]\u001b[39m\n      [5] \u001b[0m\u001b[1msimilar\u001b[22m\n    \u001b[90m    @ \u001b[39m\u001b[90m./\u001b[39m\u001b[90m\u001b[4mabstractarray.jl:828\u001b[24m\u001b[39m\u001b[90m [inlined]\u001b[39m\n      [6] \u001b[0m\u001b[1msimilar\u001b[22m\n    \u001b[90m    @ \u001b[39m\u001b[90m./\u001b[39m\u001b[90m\u001b[4mbroadcast.jl:212\u001b[24m\u001b[39m\u001b[90m [inlined]\u001b[39m\n      [7] \u001b[0m\u001b[1msimilar\u001b[22m\n    \u001b[90m    @ \u001b[39m\u001b[90m./\u001b[39m\u001b[90m\u001b[4mbroadcast.jl:211\u001b[24m\u001b[39m\u001b[90m [inlined]\u001b[39m\n      [8] \u001b[0m\u001b[1mcopy\u001b[22m\n    \u001b[90m    @ \u001b[39m\u001b[90m./\u001b[39m\u001b[90m\u001b[4mbroadcast.jl:885\u001b[24m\u001b[39m\u001b[90m [inlined]\u001b[39m\n      [9] \u001b[0m\u001b[1mmaterialize\u001b[22m\n    \u001b[90m    @ \u001b[39m\u001b[90m./\u001b[39m\u001b[90m\u001b[4mbroadcast.jl:860\u001b[24m\u001b[39m\u001b[90m [inlined]\u001b[39m\n     [10] \u001b[0m\u001b[1mbroadcast_preserving_zero_d\u001b[22m\n    \u001b[90m    @ \u001b[39m\u001b[90m./\u001b[39m\u001b[90m\u001b[4mbroadcast.jl:849\u001b[24m\u001b[39m\u001b[90m [inlined]\u001b[39m\n     [11] \u001b[0m\u001b[1m*\u001b[22m\u001b[0m\u001b[1m(\u001b[22m\u001b[90mA\u001b[39m::\u001b[0mFloat64, \u001b[90mB\u001b[39m::\u001b[0mMatrix\u001b[90m{Float64}\u001b[39m\u001b[0m\u001b[1m)\u001b[22m\n    \u001b[90m    @ \u001b[39m\u001b[90mBase\u001b[39m \u001b[90m./\u001b[39m\u001b[90m\u001b[4marraymath.jl:52\u001b[24m\u001b[39m\n     [12] \u001b[0m\u001b[1mmacro expansion\u001b[22m\n    \u001b[90m    @ \u001b[39m\u001b[90m./\u001b[39m\u001b[90m\u001b[4mIn[6]:31\u001b[24m\u001b[39m\u001b[90m [inlined]\u001b[39m\n     [13] \u001b[0m\u001b[1m(::var\"#39#threadsfor_fun#4\"{Prims_struct, Matrix{Float64}, Matrix{Float64}, Matrix{Float64}, UnitRange{Int64}})\u001b[22m\u001b[0m\u001b[1m(\u001b[22m\u001b[90monethread\u001b[39m::\u001b[0mBool\u001b[0m\u001b[1m)\u001b[22m\n    \u001b[90m    @ \u001b[39m\u001b[35mMain\u001b[39m \u001b[90m./\u001b[39m\u001b[90m\u001b[4mthreadingconstructs.jl:85\u001b[24m\u001b[39m\n     [14] \u001b[0m\u001b[1m(::var\"#39#threadsfor_fun#4\"{Prims_struct, Matrix{Float64}, Matrix{Float64}, Matrix{Float64}, UnitRange{Int64}})\u001b[22m\u001b[0m\u001b[1m(\u001b[22m\u001b[0m\u001b[1m)\u001b[22m\n    \u001b[90m    @ \u001b[39m\u001b[35mMain\u001b[39m \u001b[90m./\u001b[39m\u001b[90m\u001b[4mthreadingconstructs.jl:52\u001b[24m\u001b[39m",
      "",
      "Stacktrace:",
      "  [1] wait",
      "    @ ./task.jl:334 [inlined]",
      "  [2] threading_run(func::Function)",
      "    @ Base.Threads ./threadingconstructs.jl:38",
      "  [3] macro expansion",
      "    @ ./threadingconstructs.jl:97 [inlined]",
      "  [4] macro expansion",
      "    @ ./In[6]:25 [inlined]",
      "  [5] macro expansion",
      "    @ ~/.julia/packages/TimerOutputs/4yHI4/src/TimerOutput.jl:237 [inlined]",
      "  [6] inner_loop(prims::Prims_struct, τ_y::Vector{Float64}, τ_o::Vector{Float64}, T0_y::Float64, T0_o::Float64, λ::Float64, SWF::Float64, Tax::Float64)",
      "    @ Main ./In[6]:4",
      "  [7] main_loop(prims::Prims_struct)",
      "    @ Main ./In[13]:35",
      "  [8] top-level scope",
      "    @ In[14]:4",
      "  [9] eval",
      "    @ ./boot.jl:373 [inlined]",
      " [10] include_string(mapexpr::typeof(REPL.softscope), mod::Module, code::String, filename::String)",
      "    @ Base ./loading.jl:1196"
     ]
    }
   ],
   "source": [
    "# run\n",
    "# Add timer\n",
    "to = TimerOutput()\n",
    "τ_y, τ_o, T0_y, T0_o, dTax = main_loop(prims)"
   ]
  },
  {
   "cell_type": "code",
   "execution_count": 15,
   "id": "248de682",
   "metadata": {},
   "outputs": [
    {
     "name": "stdout",
     "output_type": "stream",
     "text": [
      "\u001b[0m\u001b[1m ────────────────────────────────────────────────────────────────────\u001b[22m\n",
      "\u001b[0m\u001b[1m                   \u001b[22m         Time                    Allocations      \n",
      "                   ───────────────────────   ────────────────────────\n",
      " Tot / % measured:      55.1s /  94.3%            132GiB / 100.0%    \n",
      "\n",
      " Section   ncalls     time    %tot     avg     alloc    %tot      avg\n",
      " ────────────────────────────────────────────────────────────────────\n",
      " Block 1        5    50.1s   96.5%   10.0s    131GiB   99.7%  26.3GiB\n",
      " Block 3        4    935ms    1.8%   234ms    215MiB    0.2%  53.8MiB\n",
      " Block 2        4    906ms    1.7%   226ms    179MiB    0.1%  44.8MiB\n",
      "\u001b[0m\u001b[1m ────────────────────────────────────────────────────────────────────\u001b[22m"
     ]
    }
   ],
   "source": [
    "show(to)"
   ]
  },
  {
   "cell_type": "code",
   "execution_count": 16,
   "id": "f47dd9a4",
   "metadata": {},
   "outputs": [
    {
     "ename": "LoadError",
     "evalue": "UndefVarError: τ_y not defined",
     "output_type": "error",
     "traceback": [
      "UndefVarError: τ_y not defined",
      "",
      "Stacktrace:",
      " [1] top-level scope",
      "   @ In[16]:2",
      " [2] eval",
      "   @ ./boot.jl:373 [inlined]",
      " [3] include_string(mapexpr::typeof(REPL.softscope), mod::Module, code::String, filename::String)",
      "   @ Base ./loading.jl:1196"
     ]
    }
   ],
   "source": [
    "# Check (intermediate) results\n",
    "plot(prims.z, τ_y)\n",
    "plot!(prims.z, τ_o)"
   ]
  }
 ],
 "metadata": {
  "kernelspec": {
   "display_name": "Julia 1.7.2",
   "language": "julia",
   "name": "julia-1.7"
  },
  "language_info": {
   "file_extension": ".jl",
   "mimetype": "application/julia",
   "name": "julia",
   "version": "1.7.2"
  }
 },
 "nbformat": 4,
 "nbformat_minor": 5
}
