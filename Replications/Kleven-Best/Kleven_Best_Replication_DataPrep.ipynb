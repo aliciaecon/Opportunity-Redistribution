{
 "cells": [
  {
   "cell_type": "markdown",
   "id": "a2ff0282",
   "metadata": {},
   "source": [
    "# Kleven Best (2012) Replication"
   ]
  },
  {
   "cell_type": "markdown",
   "id": "44a2204a",
   "metadata": {},
   "source": [
    "## Data setup"
   ]
  },
  {
   "cell_type": "markdown",
   "id": "9cff38b6",
   "metadata": {},
   "source": [
    "Follow code from prepared000.m.\n",
    "\n",
    "Note: $\\delta$ is set as parameter d in the dta_params struct, change for different values of $\\delta$.\n",
    "\n",
    "Completed and exported into DataPrep.jl as a module."
   ]
  },
  {
   "cell_type": "code",
   "execution_count": 1,
   "id": "43bde995",
   "metadata": {},
   "outputs": [],
   "source": [
    "# Load libraries\n",
    "using Parameters\n",
    "using CSV\n",
    "using DataFrames\n",
    "using Plots\n",
    "using Trapz\n",
    "using NumericalIntegration\n",
    "using SpecialFunctions"
   ]
  },
  {
   "cell_type": "code",
   "execution_count": 2,
   "id": "cd073425",
   "metadata": {},
   "outputs": [],
   "source": [
    "# (Some imports / temporary)\n",
    "# using Pkg\n",
    "# Pkg.add(\"SpecialFunctions\")"
   ]
  },
  {
   "cell_type": "markdown",
   "id": "d928f2c6",
   "metadata": {},
   "source": [
    "### Load and organize data."
   ]
  },
  {
   "cell_type": "markdown",
   "id": "7b1a45d1",
   "metadata": {},
   "source": [
    "The columns are:\n",
    "* $z$: Income\n",
    "* $H_y(z)$: CDF of income among the young\n",
    "* $h_y(z)$: PDF of income among the young\n",
    "* $H_o(z)$: CDF of income among the old\n",
    "* $h_o(z)$: PDF of income among the old\n",
    "* $mtr(z)$: Marginal tax rate at $z$\n",
    "* $\\omega$: Wage rate when old, as a function of ability and effort when young\n",
    "* $j(\\omega)$: PDF of $\\omega$\n",
    "* $J(\\omega)$: CDF of $\\omega$\n",
    "* dtapars: Other parameters\n",
    "\n",
    "The data parameters are:\n",
    "* e: Static earnings elasticity w.r.t marginal tax rate\n",
    "* d: Elasticity of old wages to young effort, $\\delta = \\frac{\\partial w}{\\partial z_y}\\frac{z_y}{\\omega}$\n",
    "* $z_y$min: Minimum $z$ parameter for young Pareto distribution\n",
    "* $\\alpha_{zy}$: $\\alpha$ parameter for young Pareto distribution\n",
    "* $z_o$min: Minimum $z$ parameter for old Pareto distribution\n",
    "* $\\alpha_{zo}$: $\\alpha$ parameter for old Pareto distribution\n",
    "* $\\gamma$: SWF inquality aversion\n",
    "* $R$: Exogeneous revenue requirement"
   ]
  },
  {
   "cell_type": "code",
   "execution_count": 3,
   "id": "5c5d2017",
   "metadata": {},
   "outputs": [],
   "source": [
    "# Load data\n",
    "dta = DataFrame(CSV.File(\"data/statae050.csv\", header = false));\n",
    "\n",
    "ndta = size(dta)[1]; # Data size\n",
    "\n",
    "# Rename columns\n",
    "rename!(dta, [:z, :Hzy, :hzy, :Hzo, :hzo, :mtrz, :ω, :jω, :Jω, :dtapars]);\n"
   ]
  },
  {
   "cell_type": "code",
   "execution_count": 4,
   "id": "0f8156a0",
   "metadata": {},
   "outputs": [],
   "source": [
    "# Add a struct of parameters from the data\n",
    "@with_kw struct Dta_params\n",
    "    e\n",
    "    d ::Float64 = 0 # Benchmark scenario where δ=0\n",
    "    zymin\n",
    "    αzy\n",
    "    zomin\n",
    "    αzo\n",
    "    γ ::Float64 = 10\n",
    "    R ::Int64 = 4000\n",
    "end;"
   ]
  },
  {
   "cell_type": "code",
   "execution_count": 5,
   "id": "0eb83ed5",
   "metadata": {},
   "outputs": [],
   "source": [
    "dtapars = Dta_params(e = dta.dtapars[1],\n",
    "                     zymin = dta.dtapars[2],\n",
    "                     αzy = dta.dtapars[3],\n",
    "                     zomin = dta.dtapars[4],\n",
    "                     αzo = dta.dtapars[5]);"
   ]
  },
  {
   "cell_type": "markdown",
   "id": "8caa1981",
   "metadata": {},
   "source": [
    "### Compute the remaining income distributions."
   ]
  },
  {
   "cell_type": "markdown",
   "id": "bf91f24f",
   "metadata": {},
   "source": [
    "$\\omega(n, z_y/n)$: Function relating wage rate when old to ability and effort when young.\n",
    "\n",
    "Recall that $z_o = \\omega(n, l_y) l_o$. The FOC of the old (Equation 3) allows us to back out the wage rate $\\omega$ and construct the distribution $J(\\omega)$:\n",
    "\n",
    "$$1-\\tau_o(z_o) - \\left(\\frac{z_o}{\\omega}\\right)^{1+1/e}\\frac{1}{\\omega}=0$$\n",
    "\n",
    "Then, we assume that the wage rate is parametrized by:\n",
    "\n",
    "$$\\omega = \\omega(n, z_y/n) = \\omega_0(n) \\cdot \\left(\\frac{z_y}{n}\\right)^\\delta $$\n",
    "\n",
    "Where $w_0(n)$ is the baseline old wage for ability $n$ with no investment effects $(\\delta = 0)$.\n",
    "\n",
    "With an assumption about $\\delta$ and data on $n$ and $z_y$, we can back out $\\omega_0(n)$."
   ]
  },
  {
   "cell_type": "markdown",
   "id": "ffdbb9fa",
   "metadata": {},
   "source": [
    "#### First, define a few useful functions"
   ]
  },
  {
   "cell_type": "code",
   "execution_count": 6,
   "id": "1f2de73a",
   "metadata": {},
   "outputs": [],
   "source": [
    "# Function to make a distribution monotonic\n",
    "function make_monotone(dist)\n",
    "    new = copy(dist)\n",
    "    ndata = length(dist)\n",
    "    for i in 2:ndata\n",
    "        if new[i] <= new[i-1]\n",
    "            new[i] = new[i-1]\n",
    "            nextind = findfirst(new .> new[i-1])[2]\n",
    "            next = new[nextind]\n",
    "            new[i] = (next + new[i-1]*(nextind-i)) / (nextind-i+1)\n",
    "        end\n",
    "    end\n",
    "    return new\n",
    "end;"
   ]
  },
  {
   "cell_type": "code",
   "execution_count": 7,
   "id": "13699963",
   "metadata": {},
   "outputs": [],
   "source": [
    "# Function that smoothes distributions\n",
    "# (Same procedure as in Saez)\n",
    "function smooth_dist(dist, niter)\n",
    "    old = copy(dist)\n",
    "    new = copy(dist)\n",
    "    ndata = length(dist)\n",
    "    for i in 1:niter\n",
    "        for j in 2:ndata-1\n",
    "            new[j] = 0.3*old[j-1] + 0.4*old[j] + 0.3*old[j+1]\n",
    "        end\n",
    "        old = copy(new)\n",
    "    end\n",
    "    return new\n",
    "end;"
   ]
  },
  {
   "cell_type": "markdown",
   "id": "345c435a",
   "metadata": {},
   "source": [
    "#### Next, compute the distributions"
   ]
  },
  {
   "cell_type": "code",
   "execution_count": 8,
   "id": "a850be4c",
   "metadata": {},
   "outputs": [],
   "source": [
    "# Find the distribution of ω(n, z_y/n)\n",
    "# Do this by matching the CDF of ω and the CDF of z_y\n",
    "# (Minimize the distance bewteen the CDF values)\n",
    "\n",
    "# Get the difference between the Hzy and Jω\n",
    "ωzdiff = abs.(repeat(dta.Hzy', ndta, 1) - repeat(dta.Jω, 1, ndta));\n",
    "\n",
    "# Find the minimum difference indices for each Hzy (columnwise)\n",
    "# ωinds[i] = min_j |Hzy[i] - J(ω)[j])|\n",
    "_, ωinds = findmin(ωzdiff, dims = 1);\n",
    "ωinds = getindex.(ωinds[1,:], 1)';\n",
    "\n",
    "# Create ω distributions of these minimum differences\n",
    "ωz = dta.ω[ωinds];\n",
    "Jωzy = dta.Jω[ωinds];\n",
    "jωzy = dta.jω[ωinds];"
   ]
  },
  {
   "cell_type": "code",
   "execution_count": 9,
   "id": "6807d308",
   "metadata": {},
   "outputs": [],
   "source": [
    "# Find the distribution of z_o(z_y)\n",
    "# Follow a similar procedure as for finding the distribution of ω,\n",
    "# this time matching the CDFs of z_y and z_o\n",
    "\n",
    "# Difference between young z CDF and old z CDF\n",
    "zozdiff = abs.(repeat(dta.Hzy', ndta, 1) - repeat(dta.Hzo, 1, ndta));\n",
    "\n",
    "# Find the minimum difference indices for each Hzy (columnwise)\n",
    "# zoinds[i] = min_j |Hzy[i] - Hzo[j])|\n",
    "_, zoinds = findmin(zozdiff, dims = 1);\n",
    "zoinds = getindex.(zoinds[1,:], 1)';\n",
    "\n",
    "# Create z distributions of these minimum differences\n",
    "zoz = dta.z[zoinds];\n",
    "Hzoz = dta.Hzo[zoinds];\n",
    "hzoz = dta.hzo[zoinds];\n"
   ]
  },
  {
   "cell_type": "code",
   "execution_count": 10,
   "id": "35221c4b",
   "metadata": {},
   "outputs": [],
   "source": [
    "# Replace z_o(z_y) for top incomes z>150k\n",
    "\n",
    "# Split the z vector at 150,000\n",
    "znew1 = dta.z[dta.z.<150000];\n",
    "znew2 = dta.z[dta.z.>150000];\n",
    "nz1 = size(znew1)[1];\n",
    "\n",
    "# Construct z_o(z_y) incomes above 150,000\n",
    "zohigh = dtapars.zomin * (znew2 / dtapars.zymin).^(dtapars.αzy/dtapars.αzo);\n",
    "\n",
    "# Append to incomes below 150,000\n",
    "zoznew = [zoz[1:nz1]; zohigh];\n"
   ]
  },
  {
   "cell_type": "code",
   "execution_count": 11,
   "id": "f0596f43",
   "metadata": {},
   "outputs": [],
   "source": [
    "# Compute ω_0, make ω_0 monotonic, and smooth ω_0\n",
    "ω0 = copy(ωz);\n",
    "ω0 = make_monotone(ωz);\n",
    "ω0 = smooth_dist(ω0, 2000);"
   ]
  },
  {
   "cell_type": "code",
   "execution_count": 12,
   "id": "db51ba05",
   "metadata": {},
   "outputs": [],
   "source": [
    "# Compute ω_0, make ω_0 monotonic, and smooth ω_0\n",
    "ω0 = copy(ωz);\n",
    "ω0 = make_monotone(ωz);\n",
    "ω0 = smooth_dist(ω0, 2000);"
   ]
  },
  {
   "cell_type": "code",
   "execution_count": 13,
   "id": "db03e5e3",
   "metadata": {},
   "outputs": [],
   "source": [
    "# Compute the ability levels, make monotone, and smooth\n",
    "# (n = ability)\n",
    "τ = dta.mtrz./100;\n",
    "n = (dta.z.^(1/(1+dtapars.e))) .* ((1 .- τ).^(-dtapars.e/(1+dtapars.e)));\n",
    "n = make_monotone(n');\n",
    "n = smooth_dist(n', 2000);\n"
   ]
  },
  {
   "cell_type": "code",
   "execution_count": 14,
   "id": "6a7d4e0b",
   "metadata": {},
   "outputs": [],
   "source": [
    "# Compute the ability distribution and smooth\n",
    "fn = diff(dta.Hzy) ./ diff(n);\n",
    "push!(fn, 0);\n",
    "fn = smooth_dist(fn, 3000);\n",
    "\n",
    "# Create the CDF and normalize so sum = 1\n",
    "Fn = cumul_integrate(n, fn); # CDF\n",
    "fn = fn/Fn[end]; # Normalize\n",
    "Fn = cumul_integrate(n, fn); # Normalize"
   ]
  },
  {
   "cell_type": "code",
   "execution_count": 15,
   "id": "9d7a6655",
   "metadata": {},
   "outputs": [],
   "source": [
    "# Pareto tails for the ability distribution\n",
    "# Above z = 2,000,000\n",
    "\n",
    "# Calculate the pareto distribution\n",
    "haz = (n.*fn)./(1 .- Fn); # Clarify what this is?\n",
    "pareto_ind = findfirst(dta.z .> 2000000);\n",
    "pareto_α = haz[pareto_ind];\n",
    "φ = 1 - Fn[pareto_ind];\n",
    "pareto_lb = n[pareto_ind] * φ^(1/pareto_α);\n",
    "\n",
    "# Update the distributions fn, Fn\n",
    "fn[pareto_ind:end] = pareto_α .* pareto_lb^pareto_α ./ n[pareto_ind:end].^(1+pareto_α);\n",
    "Fn[pareto_ind:end] = 1 .- (pareto_lb^pareto_α ./ n[pareto_ind:end].^pareto_α);\n",
    "\n",
    "# Trim the ability distribution at 27,200\n",
    "ntop = findfirst(n .> 27200) - 1;\n",
    "n = n[1:ntop];\n",
    "fnnew = fn[1:ntop];\n",
    "Fnnew = Fn[1:ntop];\n",
    "ω0 = ω0[1:ntop];\n",
    "\n",
    "# Re-normalize distributions\n",
    "fn = fnnew / Fnnew[ntop];\n",
    "Fn = Fnnew / Fnnew[ntop];\n"
   ]
  },
  {
   "cell_type": "code",
   "execution_count": 16,
   "id": "a73aec68",
   "metadata": {},
   "outputs": [],
   "source": [
    "# Squeeze the top of the z grid (clarify?)\n",
    "z = zeros(ntop, 1);\n",
    "for i = 1:ntop\n",
    "    z[i] = exp(5 + ((i-1) * (11.52/(ntop-1))))\n",
    "end;"
   ]
  },
  {
   "cell_type": "code",
   "execution_count": 19,
   "id": "ed9a42d9",
   "metadata": {
    "collapsed": true
   },
   "outputs": [
    {
     "data": {
      "text/plain": [
       "978-element Vector{Float64}:\n",
       " 0.12999643221595142\n",
       " 0.13093002580318036\n",
       " 0.13185402090408946\n",
       " 0.13276853660413762\n",
       " 0.13367374516959263\n",
       " 0.13456987262833564\n",
       " 0.1354571989963407\n",
       " 0.1363360581516139\n",
       " 0.13720683735690212\n",
       " 0.1380699764397559\n",
       " 0.1389259666376958\n",
       " 0.13977534912302164\n",
       " 0.1406187132210153\n",
       " ⋮\n",
       " 1.0978032707906427\n",
       " 1.0977955398419883\n",
       " 1.0977870634255364\n",
       " 1.097777844573296\n",
       " 1.0977678886049367\n",
       " 1.097757203095739\n",
       " 1.0977457978337313\n",
       " 1.0977336847651533\n",
       " 1.0977208779297871\n",
       " 1.0977073933848813\n",
       " 1.0976932491203388\n",
       " 1.0969641557622398"
      ]
     },
     "execution_count": 19,
     "metadata": {},
     "output_type": "execute_result"
    }
   ],
   "source": [
    "# Define η (from hamiltonian.agedep.m, easier to do here)\n",
    "ω0prime = diff(ω0) ./ diff(n);\n",
    "push!(ω0prime, ω0prime[end]);\n",
    "η = dtapars.d .+ (ω0prime .* n ./ ω0);"
   ]
  },
  {
   "cell_type": "code",
   "execution_count": 17,
   "id": "76e655ad",
   "metadata": {},
   "outputs": [],
   "source": [
    "# Create a struct of data primitives to return (when modularized)\n",
    "@with_kw struct Prims_struct\n",
    "    z\n",
    "    n\n",
    "    ω0\n",
    "    fn\n",
    "    ntop\n",
    "    γ\n",
    "    d\n",
    "    e\n",
    "    η\n",
    "end;"
   ]
  },
  {
   "cell_type": "code",
   "execution_count": 18,
   "id": "b3300e18",
   "metadata": {},
   "outputs": [
    {
     "data": {
      "text/plain": [
       "Prims_struct\n",
       "  z: Array{Float64}((978, 1)) [148.4131591025766; 150.17348576416674; … ; 1.4771479259276977e7; 1.4946683593774399e7;;]\n",
       "  n: Array{Float64}((978,)) [30.263461163541827, 30.51559227444055, 30.767767586748093, 31.02003127691949, 31.27242747156859, 31.52500022271328, 31.77779348321883, 32.0308510825042, 32.284216702574916, 32.5379338544449  …  25574.210424036966, 25749.394175295412, 25925.777917283227, 26103.3698668783, 26282.178296810493, 26462.211535988918, 26643.477969824642, 26825.986040548025, 27009.744247519877, 27194.761147535384]\n",
       "  ω0: Array{Float64}((978,)) [67.491388, 67.56448299394141, 67.63758654525179, 67.71070722817241, 67.78385365061185, 67.85703447078714, 67.93025841363541, 68.00353428692131, 68.07687099696845, 68.15027756394441  …  37991.02662630184, 38276.713788948335, 38564.54682772191, 38854.54164316284, 39146.714251876445, 39441.080787897605, 39737.65750406192, 40036.46077337941, 40337.50709040601, 40640.8130726083]\n",
       "  fn: Array{Float64}((978,)) [3.721524250199971e-5, 3.75448930539718e-5, 3.787453304011296e-5, 3.8204151937385384e-5, 3.853373930825258e-5, 3.8863284843217925e-5, 3.9192778403109236e-5, 3.952221006102624e-5, 3.98515701438682e-5, 4.018084927336068e-5  …  4.8590591026402196e-9, 4.705479808766026e-9, 4.556754681609795e-9, 4.41273029764586e-9, 4.273258082701266e-9, 4.1381941586908536e-9, 4.00739919519728e-9, 3.8807382657428214e-9, 3.758080708604652e-9, 3.63929999203005e-9]\n",
       "  ntop: Int64 978\n",
       "  γ: Float64 10.0\n",
       "  d: Float64 0.0\n",
       "  e: Float64 0.5\n"
      ]
     },
     "execution_count": 18,
     "metadata": {},
     "output_type": "execute_result"
    }
   ],
   "source": [
    "prims = Prims_struct(z, n, ω0, fn, ntop, dtapars.γ, dtapars.d, dtapars.e, η)\n"
   ]
  }
 ],
 "metadata": {
  "kernelspec": {
   "display_name": "Julia 1.7.2",
   "language": "julia",
   "name": "julia-1.7"
  },
  "language_info": {
   "file_extension": ".jl",
   "mimetype": "application/julia",
   "name": "julia",
   "version": "1.7.2"
  }
 },
 "nbformat": 4,
 "nbformat_minor": 5
}
