{
 "cells": [
  {
   "cell_type": "markdown",
   "id": "98a04fc3",
   "metadata": {},
   "source": [
    "# Kleven Best (2012) Replication"
   ]
  },
  {
   "cell_type": "code",
   "execution_count": null,
   "id": "62bc89d1",
   "metadata": {},
   "outputs": [],
   "source": [
    "# Load libraries\n",
    "using Parameters\n",
    "using CSV\n",
    "using DataFrames\n",
    "using Plots\n",
    "using Trapz\n",
    "using NumericalIntegration\n",
    "using SpecialFunctions"
   ]
  },
  {
   "cell_type": "code",
   "execution_count": null,
   "id": "87e13742",
   "metadata": {},
   "outputs": [],
   "source": [
    "# (Some imports / temporary)\n",
    "# using Pkg\n",
    "# Pkg.add(\"SpecialFunctions\")"
   ]
  }
 ],
 "metadata": {
  "kernelspec": {
   "display_name": "Julia 1.7.2",
   "language": "julia",
   "name": "julia-1.7"
  },
  "language_info": {
   "file_extension": ".jl",
   "mimetype": "application/julia",
   "name": "julia",
   "version": "1.7.2"
  }
 },
 "nbformat": 4,
 "nbformat_minor": 5
}
