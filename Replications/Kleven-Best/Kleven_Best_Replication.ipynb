{
 "cells": [
  {
   "cell_type": "markdown",
   "id": "a2ff0282",
   "metadata": {},
   "source": [
    "# Kleven Best (2012) Replication"
   ]
  },
  {
   "cell_type": "code",
   "execution_count": 1,
   "id": "43bde995",
   "metadata": {},
   "outputs": [],
   "source": [
    "# Load libraries\n",
    "using Parameters\n",
    "using CSV\n",
    "using DataFrames\n",
    "using Plots\n",
    "using Trapz\n",
    "using NumericalIntegration\n",
    "using SpecialFunctions"
   ]
  },
  {
   "cell_type": "code",
   "execution_count": null,
   "id": "cd073425",
   "metadata": {},
   "outputs": [],
   "source": [
    "# (Some imports / temporary)\n",
    "# using Pkg\n",
    "# Pkg.add(\"SpecialFunctions\")"
   ]
  },
  {
   "cell_type": "markdown",
   "id": "44a2204a",
   "metadata": {},
   "source": [
    "## Data setup"
   ]
  },
  {
   "cell_type": "markdown",
   "id": "f7255003",
   "metadata": {},
   "source": [
    "Follow code from prepared000.m"
   ]
  },
  {
   "cell_type": "markdown",
   "id": "d928f2c6",
   "metadata": {},
   "source": [
    "### Load and organize data."
   ]
  },
  {
   "cell_type": "markdown",
   "id": "7b1a45d1",
   "metadata": {},
   "source": [
    "The columns are:\n",
    "* $z$: Income\n",
    "* $H_y(z)$: CDF of income among the young\n",
    "* $h_y(z)$: PDF of income among the young\n",
    "* $H_o(z)$: CDF of income among the old\n",
    "* $h_o(z)$: PDF of income among the old\n",
    "* $mtr(z)$: Marginal tax rate at $z$\n",
    "* $\\omega$: Wage rate when old, as a function of ability and effort when young\n",
    "* $j(\\omega)$: PDF of $\\omega$\n",
    "* $J(\\omega)$: CDF of $\\omega$\n",
    "* dtapars: Other parameters\n",
    "\n",
    "The data parameters are:\n",
    "* e: Static earnings elasticity w.r.t marginal tax rate\n",
    "* d: Elasticity of old wages to young effort, $\\delta = \\frac{\\partial w}{\\partial z_y}\\frac{z_y}{\\omega}$\n",
    "* $z_y$min: Minimum $z$ parameter for young Pareto distribution\n",
    "* $\\alpha_{zy}$: $\\alpha$ parameter for young Pareto distribution\n",
    "* $z_o$min: Minimum $z$ parameter for old Pareto distribution\n",
    "* $\\alpha_{zo}$: $\\alpha$ parameter for old Pareto distribution\n",
    "* $\\gamma$: SWF inquality aversion\n",
    "* $R$: Exogeneous revenue requirement"
   ]
  },
  {
   "cell_type": "code",
   "execution_count": 2,
   "id": "5c5d2017",
   "metadata": {},
   "outputs": [],
   "source": [
    "# Load data\n",
    "dta = DataFrame(CSV.File(\"data/statae050.csv\", header = false));\n",
    "\n",
    "ndta = size(dta)[1]; # Data size\n",
    "\n",
    "# Rename columns\n",
    "rename!(dta, [:z, :Hzy, :hzy, :Hzo, :hzo, :mtrz, :ω, :jω, :Jω, :dtapars]);\n"
   ]
  },
  {
   "cell_type": "code",
   "execution_count": 3,
   "id": "0f8156a0",
   "metadata": {},
   "outputs": [],
   "source": [
    "# Add a struct of parameters from the data\n",
    "@with_kw struct dta_params\n",
    "    e\n",
    "    d ::Float64 = 0 # Benchmark scenario where δ=0\n",
    "    zymin\n",
    "    αzy\n",
    "    zomin\n",
    "    αzo\n",
    "    γ ::Float64 = 10\n",
    "    R ::Int64 = 4000\n",
    "end;"
   ]
  },
  {
   "cell_type": "code",
   "execution_count": 4,
   "id": "0eb83ed5",
   "metadata": {},
   "outputs": [],
   "source": [
    "dtapars = dta_params(e = dta.dtapars[1],\n",
    "                     zymin = dta.dtapars[2],\n",
    "                     αzy = dta.dtapars[3],\n",
    "                     zomin = dta.dtapars[4],\n",
    "                     αzo = dta.dtapars[5]);"
   ]
  },
  {
   "cell_type": "markdown",
   "id": "8caa1981",
   "metadata": {},
   "source": [
    "### Compute the remaining income distributions."
   ]
  },
  {
   "cell_type": "markdown",
   "id": "bf91f24f",
   "metadata": {},
   "source": [
    "$\\omega(n, z_y/n)$: Function relating wage rate when old to ability and effort when young.\n",
    "\n",
    "Recall that $z_o = \\omega(n, l_y) l_o$. The FOC of the old (Equation 3) allows us to back out the wage rate $\\omega$ and construct the distribution $J(\\omega)$:\n",
    "\n",
    "$$1-\\tau_o(z_o) - \\left(\\frac{z_o}{\\omega}\\right)^{1+1/e}\\frac{1}{\\omega}=0$$\n",
    "\n",
    "Then, we assume that the wage rate is parametrized by:\n",
    "\n",
    "$$\\omega = \\omega(n, z_y/n) = \\omega_0(n) \\cdot \\left(\\frac{z_y}{n}\\right)^\\delta $$\n",
    "\n",
    "Where $w_0(n)$ is the baseline old wage for ability $n$ with no investment effects $(\\delta = 0)$.\n",
    "\n",
    "With an assumption about $\\delta$ and data on $n$ and $z_y$, we can back out $\\omega_0(n)$."
   ]
  },
  {
   "cell_type": "markdown",
   "id": "6ef9fd0f",
   "metadata": {},
   "source": [
    "#### First, define a few useful functions"
   ]
  },
  {
   "cell_type": "code",
   "execution_count": 30,
   "id": "87ecb66a",
   "metadata": {},
   "outputs": [],
   "source": [
    "# Function to make a distribution monotonic\n",
    "function make_monotone(dist)\n",
    "    new = copy(dist)\n",
    "    ndata = length(dist)\n",
    "    for i in 2:ndata\n",
    "        if new[i] <= new[i-1]\n",
    "            new[i] = new[i-1]\n",
    "            nextind = findfirst(new .> new[i])[2]\n",
    "            next = new[nextind]\n",
    "            new[i] = (next + new[i-1]*(nextind-i)) / (nextind-i+1)\n",
    "        end\n",
    "    end\n",
    "    return new\n",
    "end;"
   ]
  },
  {
   "cell_type": "code",
   "execution_count": 31,
   "id": "112c9f76",
   "metadata": {},
   "outputs": [],
   "source": [
    "# Function that smoothes distributions\n",
    "# (Same procedure as in Saez)\n",
    "function smooth_dist(dist, niter)\n",
    "    old = copy(dist)\n",
    "    new = copy(dist)\n",
    "    ndata = length(dist)\n",
    "    for i in 1:niter\n",
    "        for j in 2:ndata-1\n",
    "            new[j] = 0.3*old[j-1] + 0.4*old[j] + 0.3*old[j+1]\n",
    "        end\n",
    "        old = copy(new)\n",
    "    end\n",
    "    return new\n",
    "end;"
   ]
  },
  {
   "cell_type": "markdown",
   "id": "62ac6c5b",
   "metadata": {},
   "source": [
    "#### Next, compute the distributions"
   ]
  },
  {
   "cell_type": "code",
   "execution_count": 5,
   "id": "a850be4c",
   "metadata": {},
   "outputs": [],
   "source": [
    "# Find the distribution of ω(n, z_y/n)\n",
    "# Do this by matching the CDF of ω and the CDF of z_y\n",
    "# (Minimize the distance bewteen the CDF values)\n",
    "\n",
    "# Get the difference between the Hzy and Jω\n",
    "ωzdiff = abs.(repeat(dta.Hzy', ndta, 1) - repeat(dta.Jω, 1, ndta));\n",
    "\n",
    "# Find the minimum difference indices for each Hzy (columnwise)\n",
    "# ωinds[i] = min_j |Hzy[i] - J(ω)[j])|\n",
    "_, ωinds = findmin(ωzdiff, dims = 1);\n",
    "ωinds = getindex.(ωinds[1,:], 1)';\n",
    "\n",
    "# Create ω distributions of these minimum differences\n",
    "ωz = dta.ω[ωinds];\n",
    "Jωzy = dta.Jω[ωinds];\n",
    "jωzy = dta.jω[ωinds];"
   ]
  },
  {
   "cell_type": "code",
   "execution_count": 6,
   "id": "46eb3ab5",
   "metadata": {},
   "outputs": [],
   "source": [
    "# Find the distribution of z_o(z_y)\n",
    "# Follow a similar procedure as for finding the distribution of ω,\n",
    "# this time matching the CDFs of z_y and z_o\n",
    "\n",
    "# Difference between young z CDF and old z CDF\n",
    "zozdiff = abs.(repeat(dta.Hzy', ndta, 1) - repeat(dta.Hzo, 1, ndta));\n",
    "\n",
    "# Find the minimum difference indices for each Hzy (columnwise)\n",
    "# zoinds[i] = min_j |Hzy[i] - Hzo[j])|\n",
    "_, zoinds = findmin(zozdiff, dims = 1);\n",
    "zoinds = getindex.(zoinds[1,:], 1)';\n",
    "\n",
    "# Create z distributions of these minimum differences\n",
    "zoz = dta.z[zoinds];\n",
    "Hzoz = dta.Hzo[zoinds];\n",
    "hzoz = dta.hzo[zoinds];\n"
   ]
  },
  {
   "cell_type": "code",
   "execution_count": 7,
   "id": "d70dd22d",
   "metadata": {},
   "outputs": [],
   "source": [
    "# Replace z_o(z_y) for top incomes z>150k\n",
    "\n",
    "# Split the z vector at 150,000\n",
    "znew1 = dta.z[dta.z.<150000];\n",
    "znew2 = dta.z[dta.z.>150000];\n",
    "nz1 = size(znew1)[1];\n",
    "\n",
    "# Construct z_o(z_y) incomes above 150,000\n",
    "zohigh = dtapars.zomin * (znew2 / dtapars.zymin).^(dtapars.αzy/dtapars.αzo);\n",
    "\n",
    "# Append to incomes below 150,000\n",
    "zoznew = [zoz[1:nz1]; zohigh];\n"
   ]
  },
  {
   "cell_type": "code",
   "execution_count": 32,
   "id": "83014877",
   "metadata": {},
   "outputs": [
    {
     "data": {
      "text/plain": [
       "1×1126 Matrix{Float64}:\n",
       " 67.4914  67.5645  67.6376  67.7107  …  117390.0  1.18119e5  1.18848e5"
      ]
     },
     "execution_count": 32,
     "metadata": {},
     "output_type": "execute_result"
    }
   ],
   "source": [
    "# Compute ω_0, make ω_0 monotonic, and smooth ω_0\n",
    "ω0 = copy(ωz);\n",
    "ω0 = make_monotone(ωz);\n",
    "ω0 = smooth_dist(ω0, 2000)"
   ]
  },
  {
   "cell_type": "code",
   "execution_count": null,
   "id": "cc1eea0f",
   "metadata": {},
   "outputs": [],
   "source": [
    "# Compute the ability levels, make monotone, and smooth"
   ]
  },
  {
   "cell_type": "code",
   "execution_count": null,
   "id": "dcbd0739",
   "metadata": {},
   "outputs": [],
   "source": [
    "# Compute the ability distributions, make monotone, and smooth"
   ]
  },
  {
   "cell_type": "markdown",
   "id": "43fbc120",
   "metadata": {},
   "source": [
    "## Optimal tax calculation"
   ]
  },
  {
   "cell_type": "markdown",
   "id": "d9b7474f",
   "metadata": {},
   "source": [
    "### Procedure"
   ]
  },
  {
   "cell_type": "code",
   "execution_count": null,
   "id": "38df316c",
   "metadata": {},
   "outputs": [],
   "source": [
    "# Set parameters\n",
    "# Set some parameters\n",
    "@with_kw struct params\n",
    "    γ ::Int64            # SWF inequality aversion parameter\n",
    "    k ::Int64            # Parametrizes elasticity ε\n",
    "    e ::Float64 = 1/k    # Elasticity ε = 1/k\n",
    "    a ::Int64            # Pareto parameter for upper income distribution\n",
    "    R ::Int64            # Exogenous per-person revenue requirement\n",
    "end;"
   ]
  }
 ],
 "metadata": {
  "kernelspec": {
   "display_name": "Julia 1.7.2",
   "language": "julia",
   "name": "julia-1.7"
  },
  "language_info": {
   "file_extension": ".jl",
   "mimetype": "application/julia",
   "name": "julia",
   "version": "1.7.2"
  }
 },
 "nbformat": 4,
 "nbformat_minor": 5
}
