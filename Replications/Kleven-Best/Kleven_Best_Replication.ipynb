{
 "cells": [
  {
   "cell_type": "markdown",
   "id": "f061da3f",
   "metadata": {},
   "source": [
    "# Kleven Best (2012) Replication"
   ]
  },
  {
   "cell_type": "code",
   "execution_count": 1,
   "id": "1216c4ef",
   "metadata": {},
   "outputs": [],
   "source": [
    "# Load libraries\n",
    "using Parameters\n",
    "using CSV\n",
    "using DataFrames\n",
    "using Plots\n",
    "using Trapz\n",
    "using NumericalIntegration\n",
    "using SpecialFunctions"
   ]
  },
  {
   "cell_type": "code",
   "execution_count": null,
   "id": "a7e240a4",
   "metadata": {},
   "outputs": [],
   "source": [
    "# (Some imports / temporary)\n",
    "# using Pkg\n",
    "# Pkg.add(\"SpecialFunctions\")"
   ]
  },
  {
   "cell_type": "markdown",
   "id": "547fb56a",
   "metadata": {},
   "source": [
    "## Data setup"
   ]
  },
  {
   "cell_type": "markdown",
   "id": "30bc7fe9",
   "metadata": {},
   "source": [
    "### Load and organize data."
   ]
  },
  {
   "cell_type": "markdown",
   "id": "84b6cb3b",
   "metadata": {},
   "source": [
    "The columns are:\n",
    "* $z$: Income\n",
    "* $H_y(z)$: CDF of income among the young\n",
    "* $h_y(z)$: PDF of income among the young\n",
    "* $H_o(z)$: CDF of income among the old\n",
    "* $h_o(z)$: PDF of income among the old\n",
    "* $mtr(z)$: Marginal tax rate at $z$\n",
    "* $\\omega$: Wage rate when old, as a function of ability and effort when young\n",
    "* $j(\\omega)$: PDF of $\\omega$\n",
    "* $J(\\omega)$: CDF of $\\omega$\n",
    "* dtapars: Other parameters\n",
    "\n",
    "The data parameters are:\n",
    "* e: Static earnings elasticity w.r.t marginal tax rate\n",
    "* d: Elasticity of old wages to young effort, $\\delta = \\frac{\\partial w}{\\partial z_y}\\frac{z_y}{\\omega}$\n",
    "* $z_y$min: Minimum $z$ parameter for young Pareto distribution\n",
    "* $\\alpha_{zy}$: $\\alpha$ parameter for young Pareto distribution\n",
    "* $z_o$min: Minimum $z$ parameter for old Pareto distribution\n",
    "* $\\alpha_{zo}$: $\\alpha$ parameter for old Pareto distribution\n",
    "* $\\gamma$: SWF inquality aversion\n",
    "* $R$: Exogeneous revenue requirement"
   ]
  },
  {
   "cell_type": "code",
   "execution_count": 2,
   "id": "3de54658",
   "metadata": {},
   "outputs": [],
   "source": [
    "# Load data\n",
    "statae050 = DataFrame(CSV.File(\"data/statae050.csv\", header = false));\n",
    "\n",
    "ndta = size(statae050)[1] # Data size\n",
    "\n",
    "# Rename columns\n",
    "rename!(statae050, [:z, :Hzy, :hzy, :Hzo, :hzo, :mtrz, :ω, :jω, :Jω, :dtapars]);\n"
   ]
  },
  {
   "cell_type": "code",
   "execution_count": 5,
   "id": "d6823ba8",
   "metadata": {},
   "outputs": [],
   "source": [
    "# Add a struct of parameters from the data\n",
    "@with_kw struct dta_params\n",
    "    e\n",
    "    d ::Float64 = 0\n",
    "    zymin\n",
    "    αzy\n",
    "    zomin\n",
    "    αzo\n",
    "    γ ::Float64 = 10\n",
    "    R ::Int64 = 4000\n",
    "end;"
   ]
  },
  {
   "cell_type": "code",
   "execution_count": 7,
   "id": "ee94d3df",
   "metadata": {},
   "outputs": [
    {
     "data": {
      "text/plain": [
       "dta_params\n",
       "  e: Float64 0.5\n",
       "  d: Float64 0.0\n",
       "  zymin: Float64 31043.303\n",
       "  αzy: Float64 2.4402911\n",
       "  zomin: Float64 36500.813\n",
       "  αzo: Float64 2.2297311\n",
       "  γ: Float64 10.0\n",
       "  R: Int64 4000\n"
      ]
     },
     "execution_count": 7,
     "metadata": {},
     "output_type": "execute_result"
    }
   ],
   "source": [
    "dtapars = dta_params(e = statae050.dtapars[1],\n",
    "                     zymin = statae050.dtapars[2],\n",
    "                     αzy = statae050.dtapars[3],\n",
    "                     zomin = statae050.dtapars[4],\n",
    "                     αzo = statae050.dtapars[5])"
   ]
  },
  {
   "cell_type": "markdown",
   "id": "70cf6502",
   "metadata": {},
   "source": [
    "### Define the remaining functions."
   ]
  },
  {
   "cell_type": "markdown",
   "id": "734240cf",
   "metadata": {},
   "source": [
    "1.) $\\omega(n, z_y/n)$: Function relating wage rate when old to ability and effort when young.\n",
    "\n",
    "We assume that this wage rate is parametrized by:\n",
    "\n",
    "$$\\omega = \\omega(n, z_y/n) = \\omega_0(n) \\cdot \\left(\\frac{z_y}{n}\\right)^\\delta $$\n",
    "\n",
    "Where $w_0(n)$ is the baseline old wage for ability $n$ with no investment effects $(\\delta = 0)$.\n",
    "\n",
    "With an assumption about $\\delta$ and data on $z_y$, we can back out $\\omega_0(n)$ which is the wage that satisfies $\\omega(.) = \\omega$ for each individual."
   ]
  },
  {
   "cell_type": "code",
   "execution_count": null,
   "id": "da720943",
   "metadata": {},
   "outputs": [],
   "source": [
    "# ω(n, z_y/n)\n"
   ]
  },
  {
   "cell_type": "code",
   "execution_count": null,
   "id": "ed2eec97",
   "metadata": {},
   "outputs": [],
   "source": [
    "statae050.dtapars[1:10]"
   ]
  },
  {
   "cell_type": "markdown",
   "id": "34ff2dea",
   "metadata": {},
   "source": [
    "## Optimal tax calculation"
   ]
  },
  {
   "cell_type": "markdown",
   "id": "de053158",
   "metadata": {},
   "source": [
    "### Procedure"
   ]
  },
  {
   "cell_type": "code",
   "execution_count": null,
   "id": "e553ad05",
   "metadata": {},
   "outputs": [],
   "source": []
  },
  {
   "cell_type": "code",
   "execution_count": null,
   "id": "d519c5cf",
   "metadata": {},
   "outputs": [],
   "source": [
    "# Set parameters\n",
    "# Set some parameters\n",
    "@with_kw struct params\n",
    "    γ ::Int64            # SWF inequality aversion parameter\n",
    "    k ::Int64            # Parametrizes elasticity ε\n",
    "    e ::Float64 = 1/k    # Elasticity ε = 1/k\n",
    "    a ::Int64            # Pareto parameter for upper income distribution\n",
    "    R ::Int64            # Exogenous per-person revenue requirement\n",
    "end;"
   ]
  }
 ],
 "metadata": {
  "kernelspec": {
   "display_name": "Julia 1.7.2",
   "language": "julia",
   "name": "julia-1.7"
  },
  "language_info": {
   "file_extension": ".jl",
   "mimetype": "application/julia",
   "name": "julia",
   "version": "1.7.2"
  }
 },
 "nbformat": 4,
 "nbformat_minor": 5
}
