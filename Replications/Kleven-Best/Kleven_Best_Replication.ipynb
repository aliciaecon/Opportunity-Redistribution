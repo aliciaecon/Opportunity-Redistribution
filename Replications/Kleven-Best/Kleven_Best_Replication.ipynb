{
 "cells": [
  {
   "cell_type": "markdown",
   "id": "cb81d46c",
   "metadata": {},
   "source": [
    "# Kleven Best (2012) Replication"
   ]
  },
  {
   "cell_type": "code",
   "execution_count": null,
   "id": "614e039f",
   "metadata": {},
   "outputs": [],
   "source": [
    "# Load libraries\n",
    "using Parameters\n",
    "using CSV\n",
    "using DataFrames\n",
    "using Plots\n",
    "using Trapz\n",
    "using NumericalIntegration\n",
    "using SpecialFunctions"
   ]
  },
  {
   "cell_type": "code",
   "execution_count": null,
   "id": "9f648061",
   "metadata": {},
   "outputs": [],
   "source": [
    "# (Some imports / temporary)\n",
    "# using Pkg\n",
    "# Pkg.add(\"SpecialFunctions\")"
   ]
  },
  {
   "cell_type": "markdown",
   "id": "4312dc10",
   "metadata": {},
   "source": [
    "## Data setup"
   ]
  },
  {
   "cell_type": "markdown",
   "id": "8a577602",
   "metadata": {},
   "source": [
    "## Optimal tax calculation"
   ]
  },
  {
   "cell_type": "markdown",
   "id": "8585a310",
   "metadata": {},
   "source": [
    "### Procedure"
   ]
  },
  {
   "cell_type": "code",
   "execution_count": null,
   "id": "5dabecc2",
   "metadata": {},
   "outputs": [],
   "source": []
  },
  {
   "cell_type": "code",
   "execution_count": null,
   "id": "6f3ef015",
   "metadata": {},
   "outputs": [],
   "source": [
    "# Set parameters\n",
    "# Set some parameters\n",
    "@with_kw struct params\n",
    "    γ ::Int64            # SWF inequality aversion parameter\n",
    "    k ::Int64            # Parametrizes elasticity ε\n",
    "    e ::Float64 = 1/k    # Elasticity ε = 1/k\n",
    "    a ::Int64            # Pareto parameter for upper income distribution\n",
    "    R ::Int64            # Exogenous per-person revenue requirement\n",
    "end;"
   ]
  }
 ],
 "metadata": {
  "kernelspec": {
   "display_name": "Julia 1.7.2",
   "language": "julia",
   "name": "julia-1.7"
  },
  "language_info": {
   "file_extension": ".jl",
   "mimetype": "application/julia",
   "name": "julia",
   "version": "1.7.2"
  }
 },
 "nbformat": 4,
 "nbformat_minor": 5
}
