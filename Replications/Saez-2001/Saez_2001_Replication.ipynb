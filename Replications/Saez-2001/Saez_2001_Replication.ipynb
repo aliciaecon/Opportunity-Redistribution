{
 "cells": [
  {
   "cell_type": "markdown",
   "id": "dfabb3f2",
   "metadata": {},
   "source": [
    "# Saez (2001) Replication"
   ]
  },
  {
   "cell_type": "code",
   "execution_count": 4,
   "id": "bd1ea1ca",
   "metadata": {},
   "outputs": [],
   "source": [
    "# Load libraries\n",
    "using Parameters\n",
    "using CSV\n",
    "using DataFrames"
   ]
  },
  {
   "cell_type": "code",
   "execution_count": 3,
   "id": "b3f8e818",
   "metadata": {
    "collapsed": true
   },
   "outputs": [
    {
     "name": "stderr",
     "output_type": "stream",
     "text": [
      "\u001b[32m\u001b[1m    Updating\u001b[22m\u001b[39m registry at `~/.julia/registries/General.toml`\n",
      "\u001b[32m\u001b[1m   Resolving\u001b[22m\u001b[39m package versions...\n",
      "\u001b[32m\u001b[1m   Installed\u001b[22m\u001b[39m InlineStrings ── v1.2.2\n",
      "\u001b[32m\u001b[1m   Installed\u001b[22m\u001b[39m WeakRefStrings ─ v1.4.2\n",
      "\u001b[32m\u001b[1m   Installed\u001b[22m\u001b[39m SentinelArrays ─ v1.3.16\n",
      "\u001b[32m\u001b[1m   Installed\u001b[22m\u001b[39m FilePathsBase ── v0.9.20\n",
      "\u001b[32m\u001b[1m   Installed\u001b[22m\u001b[39m CSV ──────────── v0.10.7\n",
      "\u001b[32m\u001b[1m    Updating\u001b[22m\u001b[39m `~/.julia/environments/v1.7/Project.toml`\n",
      " \u001b[90m [336ed68f] \u001b[39m\u001b[92m+ CSV v0.10.7\u001b[39m\n",
      "\u001b[32m\u001b[1m    Updating\u001b[22m\u001b[39m `~/.julia/environments/v1.7/Manifest.toml`\n",
      " \u001b[90m [336ed68f] \u001b[39m\u001b[92m+ CSV v0.10.7\u001b[39m\n",
      " \u001b[90m [48062228] \u001b[39m\u001b[92m+ FilePathsBase v0.9.20\u001b[39m\n",
      " \u001b[90m [842dd82b] \u001b[39m\u001b[92m+ InlineStrings v1.2.2\u001b[39m\n",
      " \u001b[90m [91c51154] \u001b[39m\u001b[92m+ SentinelArrays v1.3.16\u001b[39m\n",
      " \u001b[90m [ea10d353] \u001b[39m\u001b[92m+ WeakRefStrings v1.4.2\u001b[39m\n",
      "\u001b[32m\u001b[1mPrecompiling\u001b[22m\u001b[39m project...\n",
      "\u001b[32m  ✓ \u001b[39m\u001b[90mSentinelArrays\u001b[39m\n",
      "\u001b[32m  ✓ \u001b[39m\u001b[90mFilePathsBase\u001b[39m\n",
      "\u001b[32m  ✓ \u001b[39m\u001b[90mInlineStrings\u001b[39m\n",
      "\u001b[32m  ✓ \u001b[39m\u001b[90mWeakRefStrings\u001b[39m\n",
      "\u001b[32m  ✓ \u001b[39mCSV\n",
      "  5 dependencies successfully precompiled in 9 seconds (229 already precompiled)\n"
     ]
    }
   ],
   "source": [
    "# (Some imports / temporary)\n",
    "# using Pkg\n",
    "# Pkg.add(\"CSV\")"
   ]
  },
  {
   "cell_type": "code",
   "execution_count": 41,
   "id": "e24d59cb",
   "metadata": {},
   "outputs": [],
   "source": [
    "# Read in the data\n",
    "simu = DataFrame(CSV.File(\"data/simu.csv\", header = false));\n",
    "# Not completely sure what the columns are\n",
    "rename!(simu, [:income, :pop, :z0, :τ0]);"
   ]
  },
  {
   "cell_type": "markdown",
   "id": "06a4f089",
   "metadata": {},
   "source": [
    "Data manipulation"
   ]
  },
  {
   "cell_type": "code",
   "execution_count": 43,
   "id": "12395493",
   "metadata": {},
   "outputs": [
    {
     "data": {
      "text/plain": [
       "493-element Vector{Float64}:\n",
       "     29.83158875\n",
       "    114.3096695\n",
       "    189.6199341\n",
       "    257.5508118\n",
       "    335.9827271\n",
       "    416.074707\n",
       "    508.9060974\n",
       "    589.6470947\n",
       "    673.6165161\n",
       "    769.5877686\n",
       "    860.4642944\n",
       "    952.9014893\n",
       "   1028.957642\n",
       "      ⋮\n",
       " 133821.6875\n",
       " 137333.7344\n",
       " 141318.1094\n",
       " 145551.6094\n",
       " 150170.6563\n",
       " 155264.0625\n",
       " 161101.6719\n",
       " 167530.125\n",
       " 174727.3125\n",
       " 183790.375\n",
       " 193995.6406\n",
       " 206069.875"
      ]
     },
     "execution_count": 43,
     "metadata": {},
     "output_type": "execute_result"
    }
   ],
   "source": [
    "# Manipulate the data\n",
    "# Normalize population size to 1\n",
    "nSimu = size(simu)[1];\n",
    "simu.pop = simu.pop / sum(simu.pop);\n",
    "\n",
    "# Pareto distribution above z0 = 200,000\n",
    "simu_top = simu[simu.income .< 200000,:]; # Same as aux in Saez\n",
    "nLower = size(simu_top)[1];\n",
    "p_top = sum(simu.pop[size(simu_top)[1]+1:nSimu]);\n",
    "\n",
    "# Compute the distribution of households\n",
    "fn = simu_top.pop;\n",
    "Fn = zeros(length(fn));\n",
    "Fn[1] = fn[1];\n",
    "for i in 2:nLower\n",
    "    Fn[i] = Fn[i-1] + fn[i];\n",
    "end\n",
    "\n",
    "# Smooth out the other variables\n",
    "z0 = simu_top.z0; # What is this variable?\n",
    "τ0 = simu_top.τ0;\n",
    "τ0 = 0.41 * ones(nLower) # Why?\n",
    "τ_new = τ0\n",
    "τ_old = τ0\n",
    "\n",
    "for j in 1:1000\n",
    "    for i in 2:nLower-1\n",
    "        τ_new[i] = τ_old[i-1]*0.3 .+ τ_old[i]*0.4 .+ τ_old[i+1]*0.3\n",
    "    end\n",
    "    τ_old = τ_new\n",
    "end\n",
    "\n",
    "τ0 = τ_new\n"
   ]
  },
  {
   "cell_type": "code",
   "execution_count": null,
   "id": "ae91837b",
   "metadata": {},
   "outputs": [],
   "source": [
    "# Set some parameters\n",
    "struct params\n",
    "    γ ::Int64\n",
    "    k ::Int64\n",
    "    e ::Float64 = 1/k\n",
    "    a ::Int64\n",
    "    R ::Int64\n",
    "    precis ::Float64\n",
    "end"
   ]
  }
 ],
 "metadata": {
  "kernelspec": {
   "display_name": "Julia 1.7.2",
   "language": "julia",
   "name": "julia-1.7"
  },
  "language_info": {
   "file_extension": ".jl",
   "mimetype": "application/julia",
   "name": "julia",
   "version": "1.7.2"
  }
 },
 "nbformat": 4,
 "nbformat_minor": 5
}
