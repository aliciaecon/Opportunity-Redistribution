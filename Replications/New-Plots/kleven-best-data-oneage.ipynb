{
 "cells": [
  {
   "cell_type": "markdown",
   "id": "6fce6982",
   "metadata": {},
   "source": [
    "# Step 1: Manipulate the Kleven-Best data, without splitting ages"
   ]
  },
  {
   "cell_type": "code",
   "execution_count": 1,
   "id": "5aeb6d34",
   "metadata": {},
   "outputs": [],
   "source": [
    "# Load libraries\n",
    "using Parameters\n",
    "using StatFiles\n",
    "using DataFrames\n",
    "using Plots\n",
    "using Trapz\n",
    "using NumericalIntegration\n",
    "using SpecialFunctions\n",
    "using JLD2"
   ]
  },
  {
   "cell_type": "code",
   "execution_count": 2,
   "id": "11243834",
   "metadata": {},
   "outputs": [],
   "source": [
    "# Add libraries\n",
    "# using Pkg\n",
    "# Pkg.add(\"StatFiles\")"
   ]
  },
  {
   "cell_type": "code",
   "execution_count": 3,
   "id": "61c08527",
   "metadata": {},
   "outputs": [],
   "source": [
    "# Load data\n",
    "dta = Float64.(DataFrame(load(\"data/new_dta/psid/psidtaxsim_20mil.dta\")));\n",
    "ndta = size(dta)[1]; # Data size\n"
   ]
  },
  {
   "cell_type": "code",
   "execution_count": 4,
   "id": "c032fe27",
   "metadata": {},
   "outputs": [],
   "source": [
    "# Add a struct of parameters from the data\n",
    "# Not sure where some of these parameters came from, need to check\n",
    "@with_kw struct Dta_params\n",
    "    e\n",
    "    zmin\n",
    "    α\n",
    "    γ ::Float64 = 10\n",
    "    R ::Int64 = 4000\n",
    "end;"
   ]
  },
  {
   "cell_type": "code",
   "execution_count": 5,
   "id": "88e28701",
   "metadata": {},
   "outputs": [],
   "source": [
    "dtapars = Dta_params(e = dta.zparameters[1],\n",
    "                     zmin = dta.zparameters[2],\n",
    "                     α = dta.zparameters[3]);"
   ]
  },
  {
   "cell_type": "markdown",
   "id": "a5426856",
   "metadata": {},
   "source": [
    "#### Define some useful functions"
   ]
  },
  {
   "cell_type": "code",
   "execution_count": 6,
   "id": "e6f3e382",
   "metadata": {},
   "outputs": [],
   "source": [
    "# Function to make a distribution monotonic (increasing)\n",
    "function make_monotone(dist)\n",
    "    new = copy(dist)\n",
    "    ndata = length(dist)\n",
    "    for i in 2:ndata\n",
    "        if new[i] <= new[i-1]\n",
    "            new[i] = new[i-1]\n",
    "            nextind = findfirst(new .> new[i-1])[2]\n",
    "            next = new[nextind]\n",
    "            new[i] = (next + new[i-1]*(nextind-i)) / (nextind-i+1)\n",
    "        end\n",
    "    end\n",
    "    return new\n",
    "end;"
   ]
  },
  {
   "cell_type": "code",
   "execution_count": 7,
   "id": "9098a9ad",
   "metadata": {},
   "outputs": [],
   "source": [
    "# Function that smoothes distributions\n",
    "# (Same procedure as in Saez)\n",
    "function smooth_dist(dist, niter)\n",
    "    old = copy(dist)\n",
    "    new = copy(dist)\n",
    "    ndata = length(dist)\n",
    "    for i in 1:niter\n",
    "        for j in 2:ndata-1\n",
    "            new[j] = 0.3*old[j-1] + 0.4*old[j] + 0.3*old[j+1]\n",
    "        end\n",
    "        old = copy(new)\n",
    "    end\n",
    "    return new\n",
    "end;"
   ]
  },
  {
   "cell_type": "markdown",
   "id": "ac5f34c8",
   "metadata": {},
   "source": [
    "#### Compute the distributions"
   ]
  },
  {
   "cell_type": "code",
   "execution_count": 8,
   "id": "b9faf693",
   "metadata": {},
   "outputs": [],
   "source": [
    "# Compute the ability levels, make monotone, and smooth\n",
    "# (n = ability)\n",
    "τ = dta.mtr./100;\n",
    "n = dta.z ./ (1 .- τ).^dtapars.e\n",
    "n = make_monotone(n');\n",
    "n = smooth_dist(n', 1000);\n"
   ]
  },
  {
   "cell_type": "code",
   "execution_count": 9,
   "id": "830f9d2e",
   "metadata": {},
   "outputs": [],
   "source": [
    "# Compute the ability distribution and smooth\n",
    "fn = diff(dta.Hz) ./ diff(n);\n",
    "push!(fn, 0);\n",
    "fn = smooth_dist(fn, 1000);\n",
    "\n",
    "# Create the CDF and normalize so sum = 1\n",
    "Fn = cumul_integrate(n, fn); # CDF\n",
    "fn = fn/Fn[end]; # Normalize\n",
    "Fn = cumul_integrate(n, fn); # Normalize"
   ]
  },
  {
   "cell_type": "code",
   "execution_count": 10,
   "id": "38a8a098",
   "metadata": {},
   "outputs": [],
   "source": [
    "# Pareto tails for the ability distribution\n",
    "# Above z = 2,000,000\n",
    "\n",
    "# Calculate the pareto distribution\n",
    "haz = (n.*fn)./(1 .- Fn); # Clarify what this is?\n",
    "pareto_ind = findfirst(dta.z .> 2000000);\n",
    "pareto_α = haz[pareto_ind];\n",
    "φ = 1 - Fn[pareto_ind];\n",
    "pareto_lb = n[pareto_ind] * φ^(1/pareto_α);\n",
    "\n",
    "# Update the distributions fn, Fn\n",
    "fn[pareto_ind:end] = pareto_α .* pareto_lb^pareto_α ./ n[pareto_ind:end].^(1+pareto_α);\n",
    "Fn[pareto_ind:end] = 1 .- (pareto_lb^pareto_α ./ n[pareto_ind:end].^pareto_α);\n",
    "\n",
    "# Trim the ability distribution at 27,200\n",
    "#ntop = findfirst(n .> 27200) - 1;\n",
    "ntop = length(dta.z) # NEW/adjust\n",
    "\n",
    "n = n[1:ntop];\n",
    "fnnew = fn[1:ntop];\n",
    "Fnnew = Fn[1:ntop];\n",
    "\n",
    "# Re-normalize distributions\n",
    "fn = fnnew / Fnnew[ntop];\n",
    "Fn = Fnnew / Fnnew[ntop];\n"
   ]
  },
  {
   "cell_type": "code",
   "execution_count": 11,
   "id": "cbab440b",
   "metadata": {},
   "outputs": [],
   "source": [
    "# Squeeze the top of the z grid (clarify?)\n",
    "z2 = zeros(ntop);\n",
    "for i = 1:ntop\n",
    "    z2[i] = exp(5 + ((i-1) * (11.52/(ntop-1))))\n",
    "end;"
   ]
  },
  {
   "cell_type": "code",
   "execution_count": 12,
   "id": "86868562",
   "metadata": {},
   "outputs": [],
   "source": [
    "# Save as a JLD2 file\n",
    "jldsave(\"data/zprimitives.jld2\", z=dta.z, n=n, fn=fn, ntop=ntop, γ=dtapars.γ, e=dtapars.e)\n",
    "\n",
    "jldsave(\"data/zprimitives2.jld2\", z=z2, n=n, fn=fn, ntop=ntop, γ=dtapars.γ, e=dtapars.e)\n"
   ]
  }
 ],
 "metadata": {
  "kernelspec": {
   "display_name": "Julia 1.7.2",
   "language": "julia",
   "name": "julia-1.7"
  },
  "language_info": {
   "file_extension": ".jl",
   "mimetype": "application/julia",
   "name": "julia",
   "version": "1.7.2"
  }
 },
 "nbformat": 4,
 "nbformat_minor": 5
}
