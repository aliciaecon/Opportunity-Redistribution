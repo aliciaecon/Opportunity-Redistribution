{
 "cells": [
  {
   "cell_type": "markdown",
   "id": "fd82758f",
   "metadata": {},
   "source": [
    "# Step 1: Repeat the Saez paper with Kleven-Best data"
   ]
  },
  {
   "cell_type": "markdown",
   "id": "812f7229",
   "metadata": {},
   "source": [
    "### Set up the iteration procedure"
   ]
  },
  {
   "cell_type": "code",
   "execution_count": null,
   "id": "52c0c1c7",
   "metadata": {},
   "outputs": [],
   "source": [
    "# Load libraries\n",
    "using Parameters\n",
    "using Plots\n",
    "using Trapz\n",
    "using NumericalIntegration\n",
    "using SpecialFunctions\n",
    "using Interpolations\n",
    "using TimerOutputs\n",
    "using JLD2\n",
    "using Peaks\n",
    "using DataFrames\n",
    "using Statistics"
   ]
  },
  {
   "cell_type": "code",
   "execution_count": null,
   "id": "32469cd7",
   "metadata": {},
   "outputs": [],
   "source": [
    "# Add libraries\n",
    "# using Pkg\n",
    "# Pkg.add(\"Peaks\")"
   ]
  },
  {
   "cell_type": "code",
   "execution_count": null,
   "id": "ebe97efe",
   "metadata": {},
   "outputs": [],
   "source": [
    "# Import Kleven-Best data from JLD2\n",
    "# Make the primitives (data) struct\n",
    "@with_kw struct Prims_struct\n",
    "    z            # Income\n",
    "    n            # Ability\n",
    "    fn           # PDF of ability\n",
    "    ntop         # Number of bins       \n",
    "end;\n"
   ]
  },
  {
   "cell_type": "code",
   "execution_count": null,
   "id": "a7f5a767",
   "metadata": {},
   "outputs": [],
   "source": [
    "# Set some parameters through a params struct\n",
    "# Move γ, e into params\n",
    "@with_kw struct Params_struct\n",
    "    γ ::Int64            # SWF inequality aversion parameter\n",
    "    e ::Float64          # Elasticity ε = 1/k\n",
    "    k ::Int64 = 1/e      # Parametrizes elasticity ε (FINISH: Necessary?)\n",
    "    R ::Int64            # Exogenous per-person revenue requirement\n",
    "end;\n"
   ]
  },
  {
   "cell_type": "code",
   "execution_count": null,
   "id": "c1e01b42",
   "metadata": {},
   "outputs": [],
   "source": [
    "# Define the inner loop\n",
    "function inner_loop(prims, params, τ, T0, λ, SWF, Tax)\n",
    "    # Utility\n",
    "    u = -T0 .+ cumul_integrate(prims.n, ((1 .- τ).^(1+params.e))/(1+params.e))\n",
    "    #println(u)\n",
    "    # Copy the old variables\n",
    "    λ0 = copy(λ)\n",
    "    SWF0 = copy(SWF)\n",
    "    Tax0 = copy(Tax)\n",
    "    # MVPF\n",
    "    λ = trapz(prims.n, (u .^ -params.γ) .* prims.fn)\n",
    "    # RHS of the optimal tax formula\n",
    "    ABmat = (cumul_integrate(prims.n, (u.^-params.γ/λ .- 1).*prims.fn) ./\n",
    "             (prims.n .* prims.fn)) * params.k\n",
    "    # Update τ\n",
    "    τ_new = ABmat ./ (1 .+ ABmat)\n",
    "    # Update the government optimization variables\n",
    "    z_new = prims.n .* (1 .- τ_new) .^ params.e\n",
    "    c = u .+ prims.n.*((z_new./prims.n).^(params.k+1))/(params.k+1)\n",
    "    T = z_new - c\n",
    "    \n",
    "    Tax = trapz(prims.n, T .* prims.fn)\n",
    "    SWF = trapz(prims.n, digamma.(u) .* prims.fn)\n",
    "    \n",
    "    return τ_new, λ, λ0, SWF, SWF0, Tax, Tax0\n",
    "end"
   ]
  },
  {
   "cell_type": "code",
   "execution_count": null,
   "id": "c7c58369",
   "metadata": {},
   "outputs": [],
   "source": [
    "## Define the outer loop\n",
    "function outer_loop(prims, params)\n",
    "    # Iterate over these variables of interest\n",
    "    τ = 0.2*ones(prims.ntop) # Tax rate\n",
    "    T0 = -10000 # Negative income tax\n",
    "    \n",
    "    # Iteration variables\n",
    "    dTax = 10000\n",
    "    outer_iter = 0\n",
    "    \n",
    "    # Iterate through the inner optimization loop\n",
    "    while abs(dTax) > 1\n",
    "        # Update outer loop variables\n",
    "        outer_iter += 1\n",
    "        T0 = T0 - dTax # Adjuest this if necessary\n",
    "        \n",
    "        # Create innter loop variables\n",
    "        λ = 1 # Marginal value of public funds\n",
    "        λ0 = 0\n",
    "        SWF = 1 # SWF value\n",
    "        SWF0 = 0\n",
    "        Tax = 1 # Tax revenue\n",
    "        Tax0 = 0\n",
    "        \n",
    "        # Iterate through the inner loop\n",
    "        inner_iter = 0\n",
    "        while abs(λ0 - λ) > 0.0001 ||\n",
    "        abs(SWF0 - SWF) > 0.0001 ||\n",
    "        abs(Tax0 - Tax) > 0.0001\n",
    "            # Run the inner loop\n",
    "            inner_iter += 1\n",
    "            τ, λ, λ0, SWF, SWF0, Tax, Tax0 = \n",
    "                inner_loop(prims, params, τ, T0, λ, SWF, Tax)\n",
    "            #println(Tax)\n",
    "        end\n",
    "        dTax = Tax - params.R\n",
    "        #println(inner_iter)\n",
    "        println(\"Outer iter:\", outer_iter, \" dTax:\", dTax, \" Tax:\", Tax)\n",
    "        flush(stdout)\n",
    "    end\n",
    "    return τ, T0, dTax\n",
    "end"
   ]
  },
  {
   "cell_type": "markdown",
   "id": "ee11a835",
   "metadata": {},
   "source": [
    "### Test with Saez data"
   ]
  },
  {
   "cell_type": "code",
   "execution_count": null,
   "id": "e046e1df",
   "metadata": {},
   "outputs": [],
   "source": [
    "# Test with Saez data\n",
    "# Load the JLD file\n",
    "saez_jld = load(\"data/saez-data.jld2\");\n",
    "\n",
    "# Create the struct objects\n",
    "saez_prims = Prims_struct(z = saez_jld[\"z\"], n=saez_jld[\"n\"], fn=saez_jld[\"fn\"], \n",
    "    ntop=length(saez_jld[\"n\"]));\n",
    "saez_params = Params_struct(γ = saez_jld[\"γ\"], e = saez_jld[\"e\"], R = saez_jld[\"R\"]);"
   ]
  },
  {
   "cell_type": "code",
   "execution_count": null,
   "id": "e2329b40",
   "metadata": {},
   "outputs": [],
   "source": [
    "# Run with Saez data\n",
    "saez_τ, saez_T0, saez_dTax = outer_loop(saez_prims, saez_params);"
   ]
  },
  {
   "cell_type": "code",
   "execution_count": null,
   "id": "02fd7dd8",
   "metadata": {},
   "outputs": [],
   "source": [
    "plot(saez_τ)"
   ]
  },
  {
   "cell_type": "markdown",
   "id": "96c44407",
   "metadata": {},
   "source": [
    "## Run with Best-Kleven data"
   ]
  },
  {
   "cell_type": "markdown",
   "id": "db14ebd9",
   "metadata": {},
   "source": [
    "### 1: $\\gamma = 10$"
   ]
  },
  {
   "cell_type": "code",
   "execution_count": null,
   "id": "15e96d60",
   "metadata": {},
   "outputs": [],
   "source": [
    "# Run with Best-Kleven data\n",
    "# Load the JLD file\n",
    "bk_jld = load(\"data/zprimitives2.jld2\");\n",
    "\n",
    "# Create the struct objects\n",
    "bk_prims = Prims_struct(z=bk_jld[\"z\"], n=bk_jld[\"n\"], fn=bk_jld[\"fn\"], ntop=bk_jld[\"ntop\"]);\n",
    "bk_params10 = Params_struct(γ=bk_jld[\"γ\"], e=bk_jld[\"e\"], R=4000);"
   ]
  },
  {
   "cell_type": "code",
   "execution_count": null,
   "id": "cf5d23fe",
   "metadata": {},
   "outputs": [],
   "source": [
    "# Run with Best-Kleven data\n",
    "bk_τ10, bk_T010, bk_dTax10 = outer_loop(bk_prims, bk_params10)"
   ]
  },
  {
   "cell_type": "code",
   "execution_count": null,
   "id": "9529f947",
   "metadata": {},
   "outputs": [],
   "source": [
    "# Plot results with Best-Kleven data\n",
    "#bk_n0 = findmaxima(bk_τ)[1][last] # Start plot here, first local max\n",
    "bk_n010 = findmax(bk_τ10)[2] # Global max\n",
    "bk_nend = 978 # Taken from Best-Kleven replication package, possibly adjust later"
   ]
  },
  {
   "cell_type": "code",
   "execution_count": null,
   "id": "e36a3869",
   "metadata": {
    "scrolled": true
   },
   "outputs": [],
   "source": [
    "plot(bk_prims.z[bk_n0:bk_nend], bk_τ[bk_n0:bk_nend],\n",
    "     xlims = (0, 1e6), ylims = (0, 1))"
   ]
  },
  {
   "cell_type": "markdown",
   "id": "33816226",
   "metadata": {},
   "source": [
    "#### Figure 1\n",
    "\n",
    "Graph the MTR and the ATR on the same plot."
   ]
  },
  {
   "cell_type": "code",
   "execution_count": null,
   "id": "cd774c62",
   "metadata": {},
   "outputs": [],
   "source": [
    "# Find the ATR\n",
    "bk_zdiff = diff(bk_prims.z);\n",
    "pushfirst!(bk_zdiff, bk_prims.z[1]);\n",
    "bk_T = cumsum(bk_τ .* bk_zdiff) .+ bk_T0\n",
    "bk_ATR = bk_T ./ bk_prims.z;"
   ]
  },
  {
   "cell_type": "code",
   "execution_count": null,
   "id": "961690af",
   "metadata": {},
   "outputs": [],
   "source": [
    "# Plot (same axis)\n",
    "plot(bk_prims.z[bk_n0:bk_nend], bk_τ[bk_n0:bk_nend],\n",
    "     xlims = (0, 1e6), ylims = (-3, 1), right_margin=20Plots.mm,\n",
    "     label = \"MTR\", legend =:topright, xlab = \"Income\", ylab = \"Tax rate\")\n",
    "plot!(bk_prims.z[bk_n0:bk_nend], bk_ATR[bk_n0:bk_nend],\n",
    "     label = \"ATR\", color = \"red\")\n",
    "\n",
    "# savefig(\"figs/MTR_ATR_no_educ_same_axis\")"
   ]
  },
  {
   "cell_type": "code",
   "execution_count": null,
   "id": "46877fae",
   "metadata": {},
   "outputs": [],
   "source": [
    "# Plot (different axes)\n",
    "plot(bk_prims.z[bk_n0:bk_nend], bk_τ[bk_n0:bk_nend],\n",
    "     xlims = (0, 1e6), ylims = (0, 1), right_margin=20Plots.mm,\n",
    "     label = \"MTR\", legend =:topleft, xlab = \"Income\", ylab = \"MTR\")\n",
    "plot!(twinx(),bk_prims.z[bk_n0:bk_nend], bk_ATR[bk_n0:bk_nend],\n",
    "     xlims = (0, 1e6), ylims = (-3, 1), label = \"ATR\", \n",
    "     legend =:topright, color = \"red\", ylab = \"ATR\")\n",
    "\n",
    "# savefig(\"figs/MTR_ATR_no_educ_diff_axis\")"
   ]
  },
  {
   "cell_type": "markdown",
   "id": "5890ae57",
   "metadata": {},
   "source": [
    "#### Figure 2\n",
    "\n",
    "Graph $f_0(\\omega_0 - E[\\omega_0]), f_z(z - E[z]),$ and $f_T((z - T(z)) - E[z - T(z)])$ on the same plot."
   ]
  },
  {
   "cell_type": "code",
   "execution_count": null,
   "id": "9a0f4b86",
   "metadata": {},
   "outputs": [],
   "source": [
    "# Function that smoothes distributions\n",
    "# (Same procedure as in Saez)\n",
    "function smooth_dist(dist, niter)\n",
    "    old = copy(dist)\n",
    "    new = copy(dist)\n",
    "    ndata = length(dist)\n",
    "    for i in 1:niter\n",
    "        for j in 2:ndata-1\n",
    "            new[j] = 0.3*old[j-1] + 0.4*old[j] + 0.3*old[j+1]\n",
    "        end\n",
    "        old = copy(new)\n",
    "    end\n",
    "    return new\n",
    "end;"
   ]
  },
  {
   "cell_type": "code",
   "execution_count": null,
   "id": "5a807d3a",
   "metadata": {},
   "outputs": [],
   "source": [
    "# Load distributions from the original data\n",
    "bk_dta = dta = Float64.(DataFrame(load(\"data/new_dta/psid/psidtaxsim_20mil.dta\")));"
   ]
  },
  {
   "cell_type": "code",
   "execution_count": null,
   "id": "64c7dfa2",
   "metadata": {},
   "outputs": [],
   "source": [
    "# Smooth the income distribution\n",
    "# So it's not much messier the ability distribution\n",
    "# (Using the same number of iterations as smoothing the ability distribution)\n",
    "bk_hz = smooth_dist(bk_dta.hz, 500);"
   ]
  },
  {
   "cell_type": "code",
   "execution_count": null,
   "id": "72645a35",
   "metadata": {},
   "outputs": [],
   "source": [
    "# Find the net-of-tax income distribution\n",
    "bk_Thz = bk_prims.z - bk_T;"
   ]
  },
  {
   "cell_type": "code",
   "execution_count": null,
   "id": "9a68195b",
   "metadata": {},
   "outputs": [],
   "source": [
    "# Adjust everything to be the region we care about\n",
    "fn_plot = bk_prims.fn[bk_n0:bk_nend];\n",
    "hz_plot = bk_hz[bk_n0:bk_nend];\n",
    "n_plot = (bk_prims.n .- mean(bk_prims.n))[bk_n0:bk_nend];\n",
    "z_plot = (bk_prims.z .- mean(bk_prims.z))[bk_n0:bk_nend];\n",
    "Tz_plot = (bk_Thz .- mean(bk_Thz))[bk_n0:bk_nend];"
   ]
  },
  {
   "cell_type": "code",
   "execution_count": null,
   "id": "d14cd0ef",
   "metadata": {},
   "outputs": [],
   "source": [
    "plot(n_plot, fn_plot,\n",
    "     xlims = (-2.5e6, 1e6),\n",
    "     right_margin=20Plots.mm, xlab = \"n, z\", ylab = \"f(x)\",\n",
    "     label = \"f(n - E[n])\")\n",
    "plot!(z_plot, hz_plot, \n",
    "     label = \"f(z - E[z])\")\n",
    "plot!(Tz_plot, hz_plot,\n",
    "     label = \"f((z - T(z))) - E[z - T(z)])\")\n",
    "\n",
    "# savefig(\"figs/fx_no_educ\")"
   ]
  },
  {
   "cell_type": "markdown",
   "id": "4c97e9e6",
   "metadata": {},
   "source": [
    "### 2: $\\gamma = 1$"
   ]
  },
  {
   "cell_type": "markdown",
   "id": "a6bdf58e",
   "metadata": {},
   "source": [
    "## Extra charts\n",
    "\n",
    "From 12/1/22 meeting, to compare the MTR and income distribution between this data and the Best-Kleven data."
   ]
  },
  {
   "cell_type": "markdown",
   "id": "018c2066",
   "metadata": {},
   "source": [
    "### 1: Top right panel of Best-Kleven Figure 3"
   ]
  },
  {
   "cell_type": "markdown",
   "id": "3797c91c",
   "metadata": {},
   "source": [
    "### 2: Income distributions"
   ]
  },
  {
   "cell_type": "markdown",
   "id": "e449689b",
   "metadata": {},
   "source": [
    "### 3: Hazard ratio\n",
    "\n"
   ]
  }
 ],
 "metadata": {
  "kernelspec": {
   "display_name": "Julia 1.7.2",
   "language": "julia",
   "name": "julia-1.7"
  },
  "language_info": {
   "file_extension": ".jl",
   "mimetype": "application/julia",
   "name": "julia",
   "version": "1.7.2"
  }
 },
 "nbformat": 4,
 "nbformat_minor": 5
}
